{
  "nbformat": 4,
  "nbformat_minor": 0,
  "metadata": {
    "colab": {
      "provenance": []
    },
    "kernelspec": {
      "name": "python3",
      "display_name": "Python 3"
    },
    "language_info": {
      "name": "python"
    }
  },
  "cells": [
    {
      "cell_type": "markdown",
      "source": [
        "**Libraries**"
      ],
      "metadata": {
        "id": "v5e9pGdASS4A"
      }
    },
    {
      "cell_type": "code",
      "execution_count": 1,
      "metadata": {
        "colab": {
          "base_uri": "https://localhost:8080/"
        },
        "id": "SaJ_opso8dpY",
        "outputId": "ee48104a-11ba-4eaf-b72c-087818e2c0be"
      },
      "outputs": [
        {
          "output_type": "stream",
          "name": "stdout",
          "text": [
            "Requirement already satisfied: pandas in /usr/local/lib/python3.10/dist-packages (2.0.3)\n",
            "Requirement already satisfied: python-dateutil>=2.8.2 in /usr/local/lib/python3.10/dist-packages (from pandas) (2.8.2)\n",
            "Requirement already satisfied: pytz>=2020.1 in /usr/local/lib/python3.10/dist-packages (from pandas) (2023.4)\n",
            "Requirement already satisfied: tzdata>=2022.1 in /usr/local/lib/python3.10/dist-packages (from pandas) (2024.1)\n",
            "Requirement already satisfied: numpy>=1.21.0 in /usr/local/lib/python3.10/dist-packages (from pandas) (1.25.2)\n",
            "Requirement already satisfied: six>=1.5 in /usr/local/lib/python3.10/dist-packages (from python-dateutil>=2.8.2->pandas) (1.16.0)\n"
          ]
        }
      ],
      "source": [
        "!pip install pandas"
      ]
    },
    {
      "cell_type": "code",
      "source": [
        "import pandas as pd"
      ],
      "metadata": {
        "id": "WeW2bcjqotDi"
      },
      "execution_count": 2,
      "outputs": []
    },
    {
      "cell_type": "markdown",
      "source": [
        "**Data Examination**"
      ],
      "metadata": {
        "id": "vh6DcouJrPzM"
      }
    },
    {
      "cell_type": "code",
      "source": [
        "df = pd.read_csv(\"data.csv\")"
      ],
      "metadata": {
        "id": "XRP3Nl-sSR8Q"
      },
      "execution_count": 3,
      "outputs": []
    },
    {
      "cell_type": "code",
      "source": [
        "df.head(10)"
      ],
      "metadata": {
        "colab": {
          "base_uri": "https://localhost:8080/",
          "height": 765
        },
        "id": "N9g00lBeSahL",
        "outputId": "44344630-be00-47bb-ddaa-9f3df3579002"
      },
      "execution_count": 4,
      "outputs": [
        {
          "output_type": "execute_result",
          "data": {
            "text/plain": [
              "                                   Title               Company  \\\n",
              "0              C & C++ Software Engineer         Printec Group   \n",
              "1                    Mid C/C++ Developer     ABIT Technologies   \n",
              "2                          C++ Developer               MindPal   \n",
              "3                          C++ Developer               MindPal   \n",
              "4                        C/C++ Developer                  ZYNK   \n",
              "5                          C++ Developer               MindPal   \n",
              "6  Cross Platform C++ Software Developer           Bitdefender   \n",
              "7  Software Engineer, C++ - EA Sports FC  Electronic Arts (EA)   \n",
              "8     Qt / C++ Junior Software Developer               Hipo.ro   \n",
              "9                       C++/C# Developer               Cognyte   \n",
              "\n",
              "             Location                 Number of Applicants  \\\n",
              "0           Bucharest  Fiți printre primii 25 de candidați   \n",
              "1  Bucharest, Romania                      32 de candidați   \n",
              "2          Alba Iulia                      35 de candidați   \n",
              "3           Bucharest               Peste 200 de candidați   \n",
              "4         Cluj-Napoca  Fiți printre primii 25 de candidați   \n",
              "5                Arad                      30 de candidați   \n",
              "6           Bucharest                      39 de candidați   \n",
              "7             Romania                     158 de candidați   \n",
              "8      Ilfov, Romania  Fiți printre primii 25 de candidați   \n",
              "9           Bucharest  Fiți printre primii 25 de candidați   \n",
              "\n",
              "                  Experience Employment Type  \\\n",
              "0  Nivel mediu de experiență       Full-time   \n",
              "1                  Full-time         Unknown   \n",
              "2                  Începător       Full-time   \n",
              "3                  Începător       Full-time   \n",
              "4                  Full-time         Unknown   \n",
              "5                  Începător       Full-time   \n",
              "6  Nivel mediu de experiență       Full-time   \n",
              "7               Nu se aplică       Full-time   \n",
              "8                    Asociat       Full-time   \n",
              "9               Nu se aplică       Full-time   \n",
              "\n",
              "                                         Description  \n",
              "0  We are seeking for a driven Software Engineer ...  \n",
              "1  Locație: Brașov/BucureștiMod de colaborare: CI...  \n",
              "2  We are looking for C++ DeveloperResponsibiliti...  \n",
              "3  We are looking for C++ DeveloperResponsibiliti...  \n",
              "4  We are looking for a skilled C/C++ Developer t...  \n",
              "5  We are looking for C++ DeveloperResponsibiliti...  \n",
              "6  Are you interested in working for a growing co...  \n",
              "7  EA SPORTS is one of the most iconic brands in ...  \n",
              "8  A Snapshot of Your DayAs a Junior Software Dev...  \n",
              "9  Today’s world is crime-riddled. Criminals are ...  "
            ],
            "text/html": [
              "\n",
              "  <div id=\"df-4647b666-7ce0-461a-ac30-885a744bf2a5\" class=\"colab-df-container\">\n",
              "    <div>\n",
              "<style scoped>\n",
              "    .dataframe tbody tr th:only-of-type {\n",
              "        vertical-align: middle;\n",
              "    }\n",
              "\n",
              "    .dataframe tbody tr th {\n",
              "        vertical-align: top;\n",
              "    }\n",
              "\n",
              "    .dataframe thead th {\n",
              "        text-align: right;\n",
              "    }\n",
              "</style>\n",
              "<table border=\"1\" class=\"dataframe\">\n",
              "  <thead>\n",
              "    <tr style=\"text-align: right;\">\n",
              "      <th></th>\n",
              "      <th>Title</th>\n",
              "      <th>Company</th>\n",
              "      <th>Location</th>\n",
              "      <th>Number of Applicants</th>\n",
              "      <th>Experience</th>\n",
              "      <th>Employment Type</th>\n",
              "      <th>Description</th>\n",
              "    </tr>\n",
              "  </thead>\n",
              "  <tbody>\n",
              "    <tr>\n",
              "      <th>0</th>\n",
              "      <td>C &amp; C++ Software Engineer</td>\n",
              "      <td>Printec Group</td>\n",
              "      <td>Bucharest</td>\n",
              "      <td>Fiți printre primii 25 de candidați</td>\n",
              "      <td>Nivel mediu de experiență</td>\n",
              "      <td>Full-time</td>\n",
              "      <td>We are seeking for a driven Software Engineer ...</td>\n",
              "    </tr>\n",
              "    <tr>\n",
              "      <th>1</th>\n",
              "      <td>Mid C/C++ Developer</td>\n",
              "      <td>ABIT Technologies</td>\n",
              "      <td>Bucharest, Romania</td>\n",
              "      <td>32 de candidați</td>\n",
              "      <td>Full-time</td>\n",
              "      <td>Unknown</td>\n",
              "      <td>Locație: Brașov/BucureștiMod de colaborare: CI...</td>\n",
              "    </tr>\n",
              "    <tr>\n",
              "      <th>2</th>\n",
              "      <td>C++ Developer</td>\n",
              "      <td>MindPal</td>\n",
              "      <td>Alba Iulia</td>\n",
              "      <td>35 de candidați</td>\n",
              "      <td>Începător</td>\n",
              "      <td>Full-time</td>\n",
              "      <td>We are looking for C++ DeveloperResponsibiliti...</td>\n",
              "    </tr>\n",
              "    <tr>\n",
              "      <th>3</th>\n",
              "      <td>C++ Developer</td>\n",
              "      <td>MindPal</td>\n",
              "      <td>Bucharest</td>\n",
              "      <td>Peste 200 de candidați</td>\n",
              "      <td>Începător</td>\n",
              "      <td>Full-time</td>\n",
              "      <td>We are looking for C++ DeveloperResponsibiliti...</td>\n",
              "    </tr>\n",
              "    <tr>\n",
              "      <th>4</th>\n",
              "      <td>C/C++ Developer</td>\n",
              "      <td>ZYNK</td>\n",
              "      <td>Cluj-Napoca</td>\n",
              "      <td>Fiți printre primii 25 de candidați</td>\n",
              "      <td>Full-time</td>\n",
              "      <td>Unknown</td>\n",
              "      <td>We are looking for a skilled C/C++ Developer t...</td>\n",
              "    </tr>\n",
              "    <tr>\n",
              "      <th>5</th>\n",
              "      <td>C++ Developer</td>\n",
              "      <td>MindPal</td>\n",
              "      <td>Arad</td>\n",
              "      <td>30 de candidați</td>\n",
              "      <td>Începător</td>\n",
              "      <td>Full-time</td>\n",
              "      <td>We are looking for C++ DeveloperResponsibiliti...</td>\n",
              "    </tr>\n",
              "    <tr>\n",
              "      <th>6</th>\n",
              "      <td>Cross Platform C++ Software Developer</td>\n",
              "      <td>Bitdefender</td>\n",
              "      <td>Bucharest</td>\n",
              "      <td>39 de candidați</td>\n",
              "      <td>Nivel mediu de experiență</td>\n",
              "      <td>Full-time</td>\n",
              "      <td>Are you interested in working for a growing co...</td>\n",
              "    </tr>\n",
              "    <tr>\n",
              "      <th>7</th>\n",
              "      <td>Software Engineer, C++ - EA Sports FC</td>\n",
              "      <td>Electronic Arts (EA)</td>\n",
              "      <td>Romania</td>\n",
              "      <td>158 de candidați</td>\n",
              "      <td>Nu se aplică</td>\n",
              "      <td>Full-time</td>\n",
              "      <td>EA SPORTS is one of the most iconic brands in ...</td>\n",
              "    </tr>\n",
              "    <tr>\n",
              "      <th>8</th>\n",
              "      <td>Qt / C++ Junior Software Developer</td>\n",
              "      <td>Hipo.ro</td>\n",
              "      <td>Ilfov, Romania</td>\n",
              "      <td>Fiți printre primii 25 de candidați</td>\n",
              "      <td>Asociat</td>\n",
              "      <td>Full-time</td>\n",
              "      <td>A Snapshot of Your DayAs a Junior Software Dev...</td>\n",
              "    </tr>\n",
              "    <tr>\n",
              "      <th>9</th>\n",
              "      <td>C++/C# Developer</td>\n",
              "      <td>Cognyte</td>\n",
              "      <td>Bucharest</td>\n",
              "      <td>Fiți printre primii 25 de candidați</td>\n",
              "      <td>Nu se aplică</td>\n",
              "      <td>Full-time</td>\n",
              "      <td>Today’s world is crime-riddled. Criminals are ...</td>\n",
              "    </tr>\n",
              "  </tbody>\n",
              "</table>\n",
              "</div>\n",
              "    <div class=\"colab-df-buttons\">\n",
              "\n",
              "  <div class=\"colab-df-container\">\n",
              "    <button class=\"colab-df-convert\" onclick=\"convertToInteractive('df-4647b666-7ce0-461a-ac30-885a744bf2a5')\"\n",
              "            title=\"Convert this dataframe to an interactive table.\"\n",
              "            style=\"display:none;\">\n",
              "\n",
              "  <svg xmlns=\"http://www.w3.org/2000/svg\" height=\"24px\" viewBox=\"0 -960 960 960\">\n",
              "    <path d=\"M120-120v-720h720v720H120Zm60-500h600v-160H180v160Zm220 220h160v-160H400v160Zm0 220h160v-160H400v160ZM180-400h160v-160H180v160Zm440 0h160v-160H620v160ZM180-180h160v-160H180v160Zm440 0h160v-160H620v160Z\"/>\n",
              "  </svg>\n",
              "    </button>\n",
              "\n",
              "  <style>\n",
              "    .colab-df-container {\n",
              "      display:flex;\n",
              "      gap: 12px;\n",
              "    }\n",
              "\n",
              "    .colab-df-convert {\n",
              "      background-color: #E8F0FE;\n",
              "      border: none;\n",
              "      border-radius: 50%;\n",
              "      cursor: pointer;\n",
              "      display: none;\n",
              "      fill: #1967D2;\n",
              "      height: 32px;\n",
              "      padding: 0 0 0 0;\n",
              "      width: 32px;\n",
              "    }\n",
              "\n",
              "    .colab-df-convert:hover {\n",
              "      background-color: #E2EBFA;\n",
              "      box-shadow: 0px 1px 2px rgba(60, 64, 67, 0.3), 0px 1px 3px 1px rgba(60, 64, 67, 0.15);\n",
              "      fill: #174EA6;\n",
              "    }\n",
              "\n",
              "    .colab-df-buttons div {\n",
              "      margin-bottom: 4px;\n",
              "    }\n",
              "\n",
              "    [theme=dark] .colab-df-convert {\n",
              "      background-color: #3B4455;\n",
              "      fill: #D2E3FC;\n",
              "    }\n",
              "\n",
              "    [theme=dark] .colab-df-convert:hover {\n",
              "      background-color: #434B5C;\n",
              "      box-shadow: 0px 1px 3px 1px rgba(0, 0, 0, 0.15);\n",
              "      filter: drop-shadow(0px 1px 2px rgba(0, 0, 0, 0.3));\n",
              "      fill: #FFFFFF;\n",
              "    }\n",
              "  </style>\n",
              "\n",
              "    <script>\n",
              "      const buttonEl =\n",
              "        document.querySelector('#df-4647b666-7ce0-461a-ac30-885a744bf2a5 button.colab-df-convert');\n",
              "      buttonEl.style.display =\n",
              "        google.colab.kernel.accessAllowed ? 'block' : 'none';\n",
              "\n",
              "      async function convertToInteractive(key) {\n",
              "        const element = document.querySelector('#df-4647b666-7ce0-461a-ac30-885a744bf2a5');\n",
              "        const dataTable =\n",
              "          await google.colab.kernel.invokeFunction('convertToInteractive',\n",
              "                                                    [key], {});\n",
              "        if (!dataTable) return;\n",
              "\n",
              "        const docLinkHtml = 'Like what you see? Visit the ' +\n",
              "          '<a target=\"_blank\" href=https://colab.research.google.com/notebooks/data_table.ipynb>data table notebook</a>'\n",
              "          + ' to learn more about interactive tables.';\n",
              "        element.innerHTML = '';\n",
              "        dataTable['output_type'] = 'display_data';\n",
              "        await google.colab.output.renderOutput(dataTable, element);\n",
              "        const docLink = document.createElement('div');\n",
              "        docLink.innerHTML = docLinkHtml;\n",
              "        element.appendChild(docLink);\n",
              "      }\n",
              "    </script>\n",
              "  </div>\n",
              "\n",
              "\n",
              "<div id=\"df-11f11979-9a76-4ff4-b16a-8cba25c95f12\">\n",
              "  <button class=\"colab-df-quickchart\" onclick=\"quickchart('df-11f11979-9a76-4ff4-b16a-8cba25c95f12')\"\n",
              "            title=\"Suggest charts\"\n",
              "            style=\"display:none;\">\n",
              "\n",
              "<svg xmlns=\"http://www.w3.org/2000/svg\" height=\"24px\"viewBox=\"0 0 24 24\"\n",
              "     width=\"24px\">\n",
              "    <g>\n",
              "        <path d=\"M19 3H5c-1.1 0-2 .9-2 2v14c0 1.1.9 2 2 2h14c1.1 0 2-.9 2-2V5c0-1.1-.9-2-2-2zM9 17H7v-7h2v7zm4 0h-2V7h2v10zm4 0h-2v-4h2v4z\"/>\n",
              "    </g>\n",
              "</svg>\n",
              "  </button>\n",
              "\n",
              "<style>\n",
              "  .colab-df-quickchart {\n",
              "      --bg-color: #E8F0FE;\n",
              "      --fill-color: #1967D2;\n",
              "      --hover-bg-color: #E2EBFA;\n",
              "      --hover-fill-color: #174EA6;\n",
              "      --disabled-fill-color: #AAA;\n",
              "      --disabled-bg-color: #DDD;\n",
              "  }\n",
              "\n",
              "  [theme=dark] .colab-df-quickchart {\n",
              "      --bg-color: #3B4455;\n",
              "      --fill-color: #D2E3FC;\n",
              "      --hover-bg-color: #434B5C;\n",
              "      --hover-fill-color: #FFFFFF;\n",
              "      --disabled-bg-color: #3B4455;\n",
              "      --disabled-fill-color: #666;\n",
              "  }\n",
              "\n",
              "  .colab-df-quickchart {\n",
              "    background-color: var(--bg-color);\n",
              "    border: none;\n",
              "    border-radius: 50%;\n",
              "    cursor: pointer;\n",
              "    display: none;\n",
              "    fill: var(--fill-color);\n",
              "    height: 32px;\n",
              "    padding: 0;\n",
              "    width: 32px;\n",
              "  }\n",
              "\n",
              "  .colab-df-quickchart:hover {\n",
              "    background-color: var(--hover-bg-color);\n",
              "    box-shadow: 0 1px 2px rgba(60, 64, 67, 0.3), 0 1px 3px 1px rgba(60, 64, 67, 0.15);\n",
              "    fill: var(--button-hover-fill-color);\n",
              "  }\n",
              "\n",
              "  .colab-df-quickchart-complete:disabled,\n",
              "  .colab-df-quickchart-complete:disabled:hover {\n",
              "    background-color: var(--disabled-bg-color);\n",
              "    fill: var(--disabled-fill-color);\n",
              "    box-shadow: none;\n",
              "  }\n",
              "\n",
              "  .colab-df-spinner {\n",
              "    border: 2px solid var(--fill-color);\n",
              "    border-color: transparent;\n",
              "    border-bottom-color: var(--fill-color);\n",
              "    animation:\n",
              "      spin 1s steps(1) infinite;\n",
              "  }\n",
              "\n",
              "  @keyframes spin {\n",
              "    0% {\n",
              "      border-color: transparent;\n",
              "      border-bottom-color: var(--fill-color);\n",
              "      border-left-color: var(--fill-color);\n",
              "    }\n",
              "    20% {\n",
              "      border-color: transparent;\n",
              "      border-left-color: var(--fill-color);\n",
              "      border-top-color: var(--fill-color);\n",
              "    }\n",
              "    30% {\n",
              "      border-color: transparent;\n",
              "      border-left-color: var(--fill-color);\n",
              "      border-top-color: var(--fill-color);\n",
              "      border-right-color: var(--fill-color);\n",
              "    }\n",
              "    40% {\n",
              "      border-color: transparent;\n",
              "      border-right-color: var(--fill-color);\n",
              "      border-top-color: var(--fill-color);\n",
              "    }\n",
              "    60% {\n",
              "      border-color: transparent;\n",
              "      border-right-color: var(--fill-color);\n",
              "    }\n",
              "    80% {\n",
              "      border-color: transparent;\n",
              "      border-right-color: var(--fill-color);\n",
              "      border-bottom-color: var(--fill-color);\n",
              "    }\n",
              "    90% {\n",
              "      border-color: transparent;\n",
              "      border-bottom-color: var(--fill-color);\n",
              "    }\n",
              "  }\n",
              "</style>\n",
              "\n",
              "  <script>\n",
              "    async function quickchart(key) {\n",
              "      const quickchartButtonEl =\n",
              "        document.querySelector('#' + key + ' button');\n",
              "      quickchartButtonEl.disabled = true;  // To prevent multiple clicks.\n",
              "      quickchartButtonEl.classList.add('colab-df-spinner');\n",
              "      try {\n",
              "        const charts = await google.colab.kernel.invokeFunction(\n",
              "            'suggestCharts', [key], {});\n",
              "      } catch (error) {\n",
              "        console.error('Error during call to suggestCharts:', error);\n",
              "      }\n",
              "      quickchartButtonEl.classList.remove('colab-df-spinner');\n",
              "      quickchartButtonEl.classList.add('colab-df-quickchart-complete');\n",
              "    }\n",
              "    (() => {\n",
              "      let quickchartButtonEl =\n",
              "        document.querySelector('#df-11f11979-9a76-4ff4-b16a-8cba25c95f12 button');\n",
              "      quickchartButtonEl.style.display =\n",
              "        google.colab.kernel.accessAllowed ? 'block' : 'none';\n",
              "    })();\n",
              "  </script>\n",
              "</div>\n",
              "\n",
              "    </div>\n",
              "  </div>\n"
            ],
            "application/vnd.google.colaboratory.intrinsic+json": {
              "type": "dataframe",
              "variable_name": "df",
              "summary": "{\n  \"name\": \"df\",\n  \"rows\": 2513,\n  \"fields\": [\n    {\n      \"column\": \"Title\",\n      \"properties\": {\n        \"dtype\": \"string\",\n        \"num_unique_values\": 1283,\n        \"samples\": [\n          \"QA/Testing Engineer - eKYC\",\n          \"Software Test Engineer Manager\",\n          \"Digital Engineer\"\n        ],\n        \"semantic_type\": \"\",\n        \"description\": \"\"\n      }\n    },\n    {\n      \"column\": \"Company\",\n      \"properties\": {\n        \"dtype\": \"category\",\n        \"num_unique_values\": 630,\n        \"samples\": [\n          \"MonkeyRecruit\",\n          \"Appsilon\",\n          \"LSEG (London Stock Exchange Group)\"\n        ],\n        \"semantic_type\": \"\",\n        \"description\": \"\"\n      }\n    },\n    {\n      \"column\": \"Location\",\n      \"properties\": {\n        \"dtype\": \"category\",\n        \"num_unique_values\": 174,\n        \"samples\": [\n          \"Alba\",\n          \"Ha\\u0163eg\",\n          \"V\\u0103lenii de Munte\"\n        ],\n        \"semantic_type\": \"\",\n        \"description\": \"\"\n      }\n    },\n    {\n      \"column\": \"Number of Applicants\",\n      \"properties\": {\n        \"dtype\": \"category\",\n        \"num_unique_values\": 169,\n        \"samples\": [\n          \"120 de candida\\u021bi\",\n          \"69 de candida\\u021bi\",\n          \"109 candida\\u021bi\"\n        ],\n        \"semantic_type\": \"\",\n        \"description\": \"\"\n      }\n    },\n    {\n      \"column\": \"Experience\",\n      \"properties\": {\n        \"dtype\": \"category\",\n        \"num_unique_values\": 11,\n        \"samples\": [\n          \"Stagiar\",\n          \"Nivel mediu de experien\\u021b\\u0103\",\n          \"Unknown\"\n        ],\n        \"semantic_type\": \"\",\n        \"description\": \"\"\n      }\n    },\n    {\n      \"column\": \"Employment Type\",\n      \"properties\": {\n        \"dtype\": \"category\",\n        \"num_unique_values\": 11,\n        \"samples\": [\n          \"Inginerie \\u0219i Tehnologia informa\\u021biei\",\n          \"Full-time\",\n          \"Asigurarea calit\\u0103\\u021bii\"\n        ],\n        \"semantic_type\": \"\",\n        \"description\": \"\"\n      }\n    },\n    {\n      \"column\": \"Description\",\n      \"properties\": {\n        \"dtype\": \"string\",\n        \"num_unique_values\": 1894,\n        \"samples\": [\n          \"\\u041e\\u043f\\u0438\\u0441\\u0430\\u043d\\u0438\\u0435**SniyX LLC: Sun'iy Intellekt Sohasidagi Inqilobiy Startap Kompaniya**SniyX LLC sun'iy intellekt (SI) sohasida faoliyat yurituvchi innovatsion startap kompaniya bo'lib, zamonaviy texnologiyalar yordamida turli sohalar uchun ilg'or yechimlar yaratish bilan shug'ullanadi. Kompaniya turli xil SI dasturlari va xizmatlarini ishlab chiqish, tadqiqot qilish va tijoratlashtirish bilan shug'ullanadi. Uning maqsadi inson hayotini yengillashtiradigan, bizneslarni rivojlantiradigan va ilmiy tadqiqotlarni tezlashtiradigan yuqori samarali sun'iy intellekt yechimlarini taklif qilishdir.Mahsulot Va Xizmatlar **Mashina O'rganish (Machine Learning):** SniyX LLC mashina o'rganish algoritmlari asosida turli sohalar uchun moslashuvchan va yuqori aniqlikka ega modellar yaratadi. Bu modellar mijozlarning ehtiyojlariga moslashtiriladi va ularning biznes jarayonlarini optimallashtirishga yordam beradi. **Ma'lumotlarni Tahlil qilish (Data Analytics):** Kompaniya katta ma'lumotlarni tahlil qilish va ulardan foydali ma'lumotlar olish bo'yicha xizmatlar ko'rsatadi. Bu xizmatlar orqali mijozlar o'zlarining biznes qarorlarini asoslashlari va bozordagi tendentsiyalarni kuzatishlari mumkin. **Tabiiy Tilni Qayta Ishlash (Natural Language Processing):** SniyX LLC tabiiy tilni qayta ishlash texnologiyalari yordamida mijozlarga matnlarni tahlil qilish, avtomatik tarjima, chat-botlar yaratish va boshqa turli xizmatlar ko'rsatadi. **Tasvirni Qayta Ishlash (Computer Vision):** Tasvir va video ma'lumotlarni qayta ishlash orqali kompaniya xavfsizlik tizimlari, sog'liqni saqlash, va marketing sohalarida qo'llaniladigan yechimlar yaratadi.Tadqiqot Va RivojlantirishSniyX LLC tadqiqot va rivojlantirishga katta e'tibor qaratadi. Kompaniyaning ilmiy xodimlari va muhandislari yangi algoritmlar, modellari va SI texnologiyalarini ishlab chiqish ustida doimiy ravishda ishlamoqda. Ular ilmiy maqolalar, patentlar va ilmiy konferensiyalarda ishtirok etish orqali SI sohasidagi yangiliklarni o'rganish va ulardan foydali natijalar chiqarish bilan shug'ullanadi.Hamkorlik Va MijozlarKompaniya o'z mahsulotlari va xizmatlarini takomillashtirish maqsadida turli sohalardagi tashkilotlar, universitetlar va tadqiqot institutlari bilan hamkorlik qiladi. SniyX LLC mijozlari orasida kichik startaplardan tortib, yirik korporatsiyalar va davlat tashkilotlarigacha bo'lgan turli xil mijozlar mavjud.Maqsad Va MissiyaSniyX LLC ning asosiy maqsadi \\u2013 sun'iy intellekt texnologiyalari yordamida insonlarning hayotini yengillashtirish va yanada qulayroq qilish. Kompaniya o'zining innovatsion yondashuvi, yuqori texnologik mahsulotlari va mijozlarga yo'naltirilgan xizmatlari bilan sun'iy intellekt sohasida yetakchi o'rinni egallashga intiladi.XulosaSniyX LLC sun'iy intellekt sohasida katta potensialga ega bo'lgan startap kompaniya bo'lib, zamonaviy texnologiyalar yordamida yangi imkoniyatlar yaratmoqda. Kompaniyaning innovatsion mahsulotlari va xizmatlari kelajakda turli sohalarda inqilobiy o'zgarishlarga olib kelishi mumkin.\\u041e\\u0441\\u043d\\u043e\\u0432\\u043d\\u044b\\u0435 \\u0437\\u0430\\u0434\\u0430\\u0447\\u0438 Project Manager bilan hamkorlikda ishlash; Jamoani belgilangan ish vaqtida ishchi holatini ta'minlash; Middle/Strong Junior dasturchilaridan iborat jamoani boshqarish; PM tomonidan dasturchi xodimlarga taqsimlangan tasklarni bajarilishini nazorat qilish; Tasklarni birlashtirish; Onlayn tartibdagi ish faoliyatini texnik (Trello/Jira, Git, Github) tomonidan tashkil etish va boshqarish; Tasklar bo'yicha jamoadagilarga feedback lar berib borish; Project Managerga bajarilgan ishlar bo'yicha kunlik konkret hisobot berib borish; Dasturchilar pozitsiyasini aniqlashtirib olish, zarurati bo'lsa pozitsiyalar bo'yicha dasturchi jalb etish taklifini berish.Qo'shimcha Vazifalar **Jamoa boshqarish:** Jamoa a'zolarini birlashtirish va ularga yo'l yo'riq berish. Ularning vazifalarni aniqlash, taqsimlash vatakomillashtirish. 2. **Texnik yangiliklarni o'rganish va master klasslar berish:** Sohani rivojlantirish va yangi texnologiyalarni o'rganishuchun jamoa a'zolariga yo'l yo'riq berish. 3. **Ta'sirli kommunikatsiya:** Jamoa a'zolariga loyihalarni, vazifalarni va qo'llanmalarinitushuntirish va ularga qo'llanmalar haqida tushuntirish. 4. **Qo'llanmalar va texnologiyalarni rivojlantirish:** Qo'llanmalar vatexnologiyalarni rivojlantirish uchun jamoa a'zolari bilan birga ishlash. 5. **Monitoring va baholash:** Jamoa a'zolarini baholash,ularning yutuqlarini ta'kidlash va yengilliklarni kuzatish. 6. **Ko'rsatilgan vazifalarni boshqarish:** 7. **Hamkorlik:** Boshqa bo'limlar va jamoalar bilan hamkorlik qilish va jamoa uchun qulay sharoitlarni yaratish. 9. **Motivatsiya vamaqsadlarni aniqlash:** Jamoa a'zolariga motivatsiya oshirish va ularga loyihalarni va kompaniyadagi maqsadlarni tushuntirish. **Boshqa resurslarni boshqarish:** Qo'llanma va resurslarni boshqarish va loyihalarni muddatiga amalga oshirish.\\u0413\\u0440\\u0430\\u0444\\u0438\\u043a \\u0440\\u0430\\u0431\\u043e\\u0442\\u044bSinov muddati: 15 kun;Ish vaqti: Dushanba-Juma 20:00 -- 23:00 gacha (kunlik 3 soatlik bandlik).Dam olish kunlari: Shanba, Yakshanba.\",\n          \"Location: Bucharest, RomaniaThe \\\"Internet of Things\\\" (IoT) is expected to grow to $19 trillion over the next 10 years as 50 billion devices are brought online. We are at the forefront of this industry, building networks and applications to enable Fortune 500 clients like Chrysler, Honda and Bosch fundamentally improve their businesses. Headquartered in Silicon Valley with offices in Chicago, London and Delhi as well as other markets, we rank among the top ten cellular providers for the IoT globally. We power critical projects across energy, transportation, retail, healthcare and more.Our company is in an enviable spot. We\\u2019re profitable, and both our bottom line and our global reach are growing rapidly. We\\u2019re playing in an exploding market where technology evolves daily and acquisitions / consolidations happen left and right. We\\u2019ve got a stellar, strategic management team who find joy in working together and are executing effectively across the board.Here are a few things to know about us:We do things differently.As a pioneer in an industry poised to reshape every sector of the global economy, we can\\u2019t settle for another companies tried and tested template. Innovation is the key to our success and it\\u2019s reflected in everything we do: from product design to corporate wellness.Customer first.Everything we do is focused on making our customers successful.We are owners.Strong leaders enable and empower their teams to figure out how to solve problems. You will be no exception, and will have the ownership, accountability and autonomy needed to be truly creative.Integrity is essential.We believe in doing things well \\u2013 and doing them right. Integrity is a core value here: you\\u2019ll see it embodied in our staff, our management approach and growing social impact work (we have a VP devoted to it).We walk the walkon diversity.We\\u2019re a brilliant and eclectic mix of ethnicities, religions, industry experiences, sexual orientations, generations and more \\u2013 and that\\u2019s by design. We see diverse perspectives as a core competitive advantage.Role and Responsibilities:We are looking for a visionary Head of DevOps who will lead the Romania DevOps team in execution to design, and who can implement and deliver on DevOps strategy that includes Infrastructure as a Code, Deployment Orchestration, GitOps, CB/CI/CD, Automation, site reliability engineering, and security. In this role you will be responsible for a team of engineers and will work hands on with the team in designing and implementing the DevOps strategy.Develop and implement the company's DevOps strategy, ensuring alignment with the overall business objectives.Collaborate with software engineering and on-prem infrastructure teams to streamline the development and deployment processes.Drive the adoption of DevSecOps best practices, tools, and methodologies across the organization.Drive SRE operational best practices, tools, and methodologies to ensure service performance and availability is aligned with target KPIsDefining and implementing monitoring and alerting strategies to proactively identify and address system issues.Lead and mentor a high-performing team of DevOps engineers, fostering a culture of innovation, continuous improvement, continuous optimization, and automationEnsure the reliability, scalability, and security of the company's technology environment.Measuring and reporting performance and team outcomesWhat do you need for this position?Bachelor's degree in a Technical Discipline (CS, EE, Math, Physics, etc.)Minimum 10 years of experience in building, managing and leading software and infrastructure support teamsStrong leadership and team management skills, with the ability to lead, mentor, and motivate a high-performing team.Excellent problem-solving skills, with a proven ability to identify and implement innovative solutions.Expert knowledge of DevOps and SRE principles and best practices with a deep understanding of KubernetesHand-on experience working on deployment, automation, monitoring, and operational aspects of Web Applications based on enterprise Java/J2EE environmentsHands-on experience in development and deploying software in Public (GCP, AWS) and/or Private cloud environmentHands-on experience in Linux/Unix environment and scripting languages: Shell, Perl, PythonHands-on experience at deep root cause analysis and identifying and addressing systemic problemsSolid experience with Microservice architecture, deployment orchestration technologies like Docker Container, Rancher, Kubernetes, Kops, HelmchartStrong experience with Databases (SQL/NoSQL), in-memory databases (eg Redis), message brokers (eg RabbitMQ), and distributed event streaming (eg Kafka)Deep knowledge security best practices in the public cloudSuperior communication and collaboration skills, with the ability to effectively communicate complex technical concepts to both technical and non-technical stakeholders.Thought leader who is up to date with the industry trendsAbility to adapt to time critical deadlines and changing priorities in a fast-paced environmentWe offer: We welcome new ideas and allow you to make an immediate impact on the team.Flexible Paid time off (PTO for any reason, including sick days (no specified limits) and flexible work schedule.Personal laptop.Private health insurance coverage.Remote work + 2/3 times per week office work.\",\n          \"Company DescriptionJobs for Humanity is collaborating with FIS Global to build an inclusive and just employment ecosystem. We support individuals coming from all walks of life.Company Name: FIS GlobalJob Description Position Type : Full time Type Of Hire : Experienced (relevant combo of work and education) Education Desired : Bachelor of Computer EngineeringAre you ready to unleash your full potential? We\\u2019re looking for people who are passionate about payments to chart Worldpay\\u2019s path to being the largest and most-loved payments company in the world.About The TeamWorldpay is an international leader, the biggest in the world, in payments processing technology servicing all types of businesses. You will be working on our worldwide payment gateway (WPG): one of the largest-by-volume global payment platforms in the world, focusing intensively on robustness, security, and capacity that can process over 800 transactions every second and exceeding 10 million successful payments every day.With a large international 24/7 customer base, this role requires developers with high levels of diligence and an eye for detail. Our engineers conscientiously code, thoroughly test and reliably deliver the requirements of our always-on business. We operate within a collaborative Agile environment and aim to deliver effective solutions to the business and our customers using our evolving payment platform.What You Will Be DoingYou will join one of our cross-functional teams containing developers, testers, a product owner and a scrum master. We use the SAFE framework so we get together as a team every 3 months to review requirements, design a solution, and commit to a plan to deliver it. With the support of the teams' principal engineer, you will pick-up challenging work from the plan that needs your proven software skills to deal with the more complex problems. As one of the team's authorised gating code-reviewers, you will support and pair with other engineers in the team to grow the team\\u2019s capabilities, and ensure we are shipping quality changes.Develop changes in Java and (PL)SQL to an ecommerce payments gateway operated by Worldpay/FIS. Review payment processing business processes, analyse production data, walk the Product code, and review payments-industry spec documents to scope and specify the work. Partner with the test engineers to help scope the test coverage and approach, and you may need to contribute to the automated integration and system tests. Design a rollout and monitoring approach for features to ensure it works as expected. Periodic availability outside normal office hours for support of release deployments. Currently we release every few weeks and have a rota. What you bring:Experience delivering software in an industry where precision is criticalExperience delivering software to solve complex business problemsJava knowledge, or a related OOP languageOOP design patterns and SOLID development principlesAbility to write code interacting effectively with large databasesDatabase systems knowledge ideally SQL-based Oracle, or similarExperience with very large code bases and version control systemsExperience with linux as a development and production environmentAdded bonus if you have:Knowledge of financial services industryFamiliarity with agile frameworks and methodologies (Scrum, Kanban, SAFe), and knowledge of their various advantages and pitfallsExperience with cloud technologiesKnowledge of enterprise compute, storage, and networking technologiesWhat We Offer YouCompetitive salary and fantastic range of benefits \\u2013 private health insurance including dental, meal vouchers, private pension, sport allowance, well-being programsA variety of career development tools, resources and opportunities26 vacation days per year and bank holidays replacementThe chance to work on some of the most challenging, relevant issues in the payment industryPrivacy StatementFIS is committed to protecting the privacy and security of all personal information that we process in order to provide services to our clients. For specific information on how FIS protects personal information online, please see the Online Privacy Notice.Sourcing ModelRecruitment at FIS works primarily on a direct sourcing model; a relatively small portion of our hiring is through recruitment agencies. FIS does not accept resumes from recruitment agencies which are not on the preferred supplier list and is not responsible for any related fees for resumes submitted to job postings, our employees, or any other part of our company.#pridepass\"\n        ],\n        \"semantic_type\": \"\",\n        \"description\": \"\"\n      }\n    }\n  ]\n}"
            }
          },
          "metadata": {},
          "execution_count": 4
        }
      ]
    },
    {
      "cell_type": "code",
      "source": [
        "df.info()"
      ],
      "metadata": {
        "colab": {
          "base_uri": "https://localhost:8080/"
        },
        "id": "VSkzVW6nSbLy",
        "outputId": "d45d4ef4-4231-4e56-f636-508728ab437a"
      },
      "execution_count": 5,
      "outputs": [
        {
          "output_type": "stream",
          "name": "stdout",
          "text": [
            "<class 'pandas.core.frame.DataFrame'>\n",
            "RangeIndex: 2513 entries, 0 to 2512\n",
            "Data columns (total 7 columns):\n",
            " #   Column                Non-Null Count  Dtype \n",
            "---  ------                --------------  ----- \n",
            " 0   Title                 2513 non-null   object\n",
            " 1   Company               2513 non-null   object\n",
            " 2   Location              2513 non-null   object\n",
            " 3   Number of Applicants  2513 non-null   object\n",
            " 4   Experience            2513 non-null   object\n",
            " 5   Employment Type       2513 non-null   object\n",
            " 6   Description           2513 non-null   object\n",
            "dtypes: object(7)\n",
            "memory usage: 137.6+ KB\n"
          ]
        }
      ]
    },
    {
      "cell_type": "code",
      "source": [
        "df.isna().sum(), (df == \"Unknown\").sum()"
      ],
      "metadata": {
        "colab": {
          "base_uri": "https://localhost:8080/"
        },
        "id": "5WefTZL5TWI0",
        "outputId": "c4927c16-5297-40e4-8131-de5f2119eaf8"
      },
      "execution_count": 6,
      "outputs": [
        {
          "output_type": "execute_result",
          "data": {
            "text/plain": [
              "(Title                   0\n",
              " Company                 0\n",
              " Location                0\n",
              " Number of Applicants    0\n",
              " Experience              0\n",
              " Employment Type         0\n",
              " Description             0\n",
              " dtype: int64,\n",
              " Title                     1\n",
              " Company                   1\n",
              " Location                  1\n",
              " Number of Applicants      1\n",
              " Experience                1\n",
              " Employment Type         144\n",
              " Description               1\n",
              " dtype: int64)"
            ]
          },
          "metadata": {},
          "execution_count": 6
        }
      ]
    },
    {
      "cell_type": "code",
      "source": [
        "for col in df.columns[:-1]:\n",
        "  print(df[col].value_counts())\n",
        "  print(\"\\n\")"
      ],
      "metadata": {
        "colab": {
          "base_uri": "https://localhost:8080/"
        },
        "id": "tLyRKy5JTold",
        "outputId": "8aa6cedf-9b7a-4347-e9b2-2cd361060542"
      },
      "execution_count": 7,
      "outputs": [
        {
          "output_type": "stream",
          "name": "stdout",
          "text": [
            "Title\n",
            "Part-Time Work From Home as Photo Collector Anywhere in Europe    124\n",
            "Software Engineer                                                  89\n",
            "DevOps Engineer                                                    57\n",
            "Java Developer                                                     45\n",
            "Data Engineer                                                      39\n",
            "                                                                 ... \n",
            "Infrastructure Automation Engineer                                  1\n",
            "(remote) Cloud Engineer (with FinOps)                               1\n",
            "DevOps Engineer - GCP Certified                                     1\n",
            "Senior QA Automation Engineer                                       1\n",
            "Software Application Specialist                                     1\n",
            "Name: count, Length: 1283, dtype: int64\n",
            "\n",
            "\n",
            "Company\n",
            "TransPerfect                 124\n",
            "Microsoft                     85\n",
            "Luxoft                        80\n",
            "Deutsche Bank                 67\n",
            "Hipo.ro                       57\n",
            "                            ... \n",
            "P3                             1\n",
            "NI (National Instruments)      1\n",
            "Plan.Net TechNest România      1\n",
            "Discovered MENA                1\n",
            "Vitesco Technologies           1\n",
            "Name: count, Length: 630, dtype: int64\n",
            "\n",
            "\n",
            "Location\n",
            "Bucharest                      675\n",
            "Bucharest, Romania             423\n",
            "Romania                        409\n",
            "Cluj-Napoca                    201\n",
            "Bucharest Metropolitan Area    171\n",
            "                              ... \n",
            "Otopeni                          1\n",
            "Huşi                             1\n",
            "Balș                             1\n",
            "Adjud                            1\n",
            "Blaj                             1\n",
            "Name: count, Length: 174, dtype: int64\n",
            "\n",
            "\n",
            "Number of Applicants\n",
            "Fiți printre primii 25 de candidați    929\n",
            "Peste 200 de candidați                 206\n",
            "26 de candidați                         31\n",
            "25 de candidați                         28\n",
            "29 de candidați                         28\n",
            "                                      ... \n",
            "198 de candidați                         1\n",
            "194 de candidați                         1\n",
            "195 de candidați                         1\n",
            "181 de candidați                         1\n",
            "170 de candidați                         1\n",
            "Name: count, Length: 169, dtype: int64\n",
            "\n",
            "\n",
            "Experience\n",
            "Nivel mediu de experiență    1344\n",
            "Începător                     516\n",
            "Nu se aplică                  294\n",
            "Asociat                       151\n",
            "Full-time                     146\n",
            "Stagiar                        29\n",
            "Director                       19\n",
            "Contract                        6\n",
            "Executiv                        4\n",
            "Part-time                       3\n",
            "Unknown                         1\n",
            "Name: count, dtype: int64\n",
            "\n",
            "\n",
            "Employment Type\n",
            "Full-time                              2111\n",
            "Unknown                                 144\n",
            "Part-time                               133\n",
            "Contract                                 84\n",
            "Altele                                   13\n",
            "Stagiar                                  11\n",
            "Inginerie și Tehnologia informației       6\n",
            "Temporar                                  5\n",
            "Artă/Creație, Proiectare și Altele        3\n",
            "Tehnologia informației                    2\n",
            "Asigurarea calității                      1\n",
            "Name: count, dtype: int64\n",
            "\n",
            "\n"
          ]
        }
      ]
    },
    {
      "cell_type": "markdown",
      "source": [
        "**Data Processing**"
      ],
      "metadata": {
        "id": "dtbEKuRJXswI"
      }
    },
    {
      "cell_type": "markdown",
      "source": [
        "Remove duplicates"
      ],
      "metadata": {
        "id": "k9XN-G67yffs"
      }
    },
    {
      "cell_type": "code",
      "source": [
        "df.drop_duplicates(inplace=True)"
      ],
      "metadata": {
        "id": "4k5Tz2oTyg3o"
      },
      "execution_count": 8,
      "outputs": []
    },
    {
      "cell_type": "markdown",
      "source": [
        "Experience"
      ],
      "metadata": {
        "id": "FalVnIWbeHRq"
      }
    },
    {
      "cell_type": "code",
      "source": [
        "def update_experience(df, title_keywords, experience_level):\n",
        "  \"\"\"\n",
        "  Update the 'Experience' column based on keywords in the 'Title' column.\n",
        "  \"\"\"\n",
        "\n",
        "  mask = df[\"Title\"].str.contains('|'.join(title_keywords), case=False)\n",
        "  df.loc[mask, \"Experience\"] = experience_level\n",
        "\n",
        "\n",
        "experience_keywords = {\n",
        "  \"Senior\": [\"Senior\", \"Sr\"],\n",
        "  \"Junior\": [\"Junior\", \"Jr\"],\n",
        "  \"Mid\": [\"Mid\", \"Middle\"]\n",
        "}\n",
        "\n",
        "\n",
        "for level, keywords in experience_keywords.items():\n",
        "  update_experience(df, keywords, level)"
      ],
      "metadata": {
        "id": "Bfi4U9LqdjoA"
      },
      "execution_count": 9,
      "outputs": []
    },
    {
      "cell_type": "code",
      "source": [
        "def update_experience(df):\n",
        "  \"\"\"\n",
        "  Update the 'Experience' column based on specific keywords in the 'Experience' column.\n",
        "  \"\"\"\n",
        "\n",
        "  for idx, row in df.iterrows():\n",
        "    exp = row[\"Experience\"]\n",
        "\n",
        "    if \"mediu\" in exp:\n",
        "      df.at[idx, \"Experience\"] = \"Mid\"\n",
        "\n",
        "    elif \"Începător\" in exp:\n",
        "      df.at[idx, \"Experience\"] = \"Junior\"\n",
        "\n",
        "    elif \"Stagiar\" in exp:\n",
        "      df.at[idx, \"Experience\"] = \"Intern\"\n",
        "\n",
        "    elif \"Contract\" in exp:\n",
        "      df.at[idx, \"Experience\"] = \"Senior\"\n",
        "\n",
        "    elif \"Director\" in exp or \"Executiv\" in exp:\n",
        "      df.at[idx, \"Experience\"] = \"Executive\"\n",
        "\n",
        "    elif \"Nu se aplică\" in exp or \"Asociat\" in exp or \"Full-time\" in exp:\n",
        "      df.at[idx, \"Experience\"] = \"Unknown\"\n",
        "\n",
        "\n",
        "update_experience(df)"
      ],
      "metadata": {
        "id": "cmWJKtKUh_gC"
      },
      "execution_count": 10,
      "outputs": []
    },
    {
      "cell_type": "markdown",
      "source": [
        "Location"
      ],
      "metadata": {
        "id": "X0u8CsqIuMa7"
      }
    },
    {
      "cell_type": "code",
      "source": [
        "df[\"Location\"] = df[\"Location\"].str.split(\",\").str[0]"
      ],
      "metadata": {
        "id": "mxew2ZTZveJ3"
      },
      "execution_count": 11,
      "outputs": []
    },
    {
      "cell_type": "code",
      "source": [
        "df[\"Location\"] = df[\"Location\"].str.replace(\" Metropolitan Area\", \"\")"
      ],
      "metadata": {
        "id": "7Jzojh2qwUtu"
      },
      "execution_count": 12,
      "outputs": []
    },
    {
      "cell_type": "markdown",
      "source": [
        "Number of Applicants"
      ],
      "metadata": {
        "id": "ca_Mq8fPvpUc"
      }
    },
    {
      "cell_type": "code",
      "source": [
        "df[\"Number of Applicants\"] = df[\"Number of Applicants\"].apply(\n",
        "    lambda x: \"\".join(filter(str.isdigit, x)))"
      ],
      "metadata": {
        "id": "hX9D2S1rvpuP"
      },
      "execution_count": 13,
      "outputs": []
    },
    {
      "cell_type": "markdown",
      "source": [
        "Title"
      ],
      "metadata": {
        "id": "c568MqsBY2O-"
      }
    },
    {
      "cell_type": "code",
      "source": [
        "categories = {\n",
        "    \"DevOps & SysOps\": [\"ops\", \"administrator\", \"platform engineer\",\n",
        "                        \"system\", \"nanagement\", \"scrum\", \"agile\",\n",
        "                         \"cloud\", \"aws\", \"azure\"],\n",
        "    \"Quality Assurance & Testing\": [\"qa\", \"quality\", \"test\"],\n",
        "    \"Data Science & Machine Learning\": [\"data\", \"scientist\", \"machine\", \"ml\",\n",
        "                                        \"ai\", \"etl\", \"analytics\", \"analyst\",\n",
        "                                        \"analysis\", \"nlp\", \"bi\",\n",
        "                                        \"Business Intelligence\",]\n",
        "}\n",
        "\n",
        "\n",
        "def categorize_job_titles(title):\n",
        "  \"\"\"\n",
        "  Categorizes a job title into predefined categories based on keywords.\n",
        "  \"\"\"\n",
        "\n",
        "  for category, keywords in categories.items():\n",
        "    if any(keyword in title.lower() for keyword in keywords):\n",
        "      return category\n",
        "  return \"Full Stack Developer\"\n",
        "\n",
        "\n",
        "df[\"Category\"] = df[\"Title\"].apply(categorize_job_titles)"
      ],
      "metadata": {
        "id": "u7yFwPJRrFeP"
      },
      "execution_count": 14,
      "outputs": []
    },
    {
      "cell_type": "markdown",
      "source": [
        "Description"
      ],
      "metadata": {
        "id": "ql7dbGgkwO4o"
      }
    },
    {
      "cell_type": "code",
      "source": [
        "features = {\n",
        "  \"languages\": [\n",
        "      \"python\", \"javascript\", \"js\", \"java\", \"kotlin\", \"swift\", \"php\",\n",
        "      \"typescript\", \"ruby\", \"golang\", \"sql\", \"rust\", \"bash\", \"shell\",\n",
        "      \"assembly\", \"matlab\", \"perl\", \"dart\", \" r \", \" r,\", \" r/\",\n",
        "      \"c#\", \"c #\", \"c++\", \"c ++\", \" c \", \" c,\", \"c/\"\n",
        "  ],\n",
        "\n",
        "  \"databases\": [\n",
        "      \"postgresql\", \"mysql\", \"sqlite\", \"mongodb\",\n",
        "      \"microsoft sql server\", \"redis\", \"mariadb\", \"elasticsearch\",\n",
        "      \"oracle\", \"dynamodb\", \"bigquery\", \"microsoft access\"\n",
        "  ],\n",
        "\n",
        "  \"clouds\": [\n",
        "      \"aws\", \"azure\", \"google cloud\", \"firebase\", \"cloudflare\"\n",
        "  ],\n",
        "\n",
        "  \"technologies\": [\n",
        "      \"flask\", \"django\", \"fastapi\", \"spring boot\", \"spring framework\", \"plotly\",\n",
        "      \"hibernate\", \"ruby on rails\", \"symfony\", \"matplotlib\", \"seaborn\",\n",
        "      \"beautiful soup\", \"tensorflow\", \"scikit-learn\", \"pytorch\", \"keras\",\n",
        "      \"node.js\", \"nodejs\", \" react,\", \" react \", \"jquery\", \"angular\", \"next.js\",\n",
        "      \"vue.js\", \"svelte\", \"bootstrap\", \"nestjs\", \"express.js\", \"wordpress\",\n",
        "      \"Power BI\", \"Tableau\", \"selenium\", \"numpy\", \"pandas\", \"polars\", \"opencv\",\n",
        "      \"flutter\", \"opengl\", \"swiftui\", \"rabbitmq\", \"laravel\", \"cuda\", \".net\"\n",
        "  ],\n",
        "\n",
        "  \"tools\": [\n",
        "      \"docker\", \"kubernetes\", \"kafka\", \"hadoop\", \"spark\", \"jenkins\", \"git\"\n",
        "  ],\n",
        "\n",
        "  \"education\": [\n",
        "      \"degree\"\n",
        "  ]\n",
        "}"
      ],
      "metadata": {
        "id": "ZQ6TUYZObwYb"
      },
      "execution_count": 15,
      "outputs": []
    },
    {
      "cell_type": "code",
      "source": [
        "def find_items(description, feature):\n",
        "  \"\"\"\n",
        "  Detects items mentioned in feature the given job description.\n",
        "  \"\"\"\n",
        "\n",
        "  if feature == \"languages\":\n",
        "    found_items = [item.replace(\" \", \"\").replace(\"/\", \"\").replace(\",\", \"\") for\n",
        "                      item in features[feature] if item in description.lower()]\n",
        "\n",
        "    if \"js\" in found_items:\n",
        "      found_items = [item for item in found_items if item not in \"js\"]\n",
        "      if not \"JavaScript\" in found_items:\n",
        "        found_items.append(\"javascript\")\n",
        "\n",
        "    if \"bash\" in found_items or \"shell\" in found_items:\n",
        "      found_items = [item for item in found_items if\n",
        "                        item not in [\"bash\", \"shell\"]]\n",
        "      found_items.append(\"bash/shell\")\n",
        "\n",
        "    if \"c\" in found_items or \"c++\" in found_items:\n",
        "      found_items = [item for item in found_items if\n",
        "                        item not in [\"c\", \"c++\"]]\n",
        "      found_items.append(\"c/c++\")\n",
        "\n",
        "  else:\n",
        "    found_items = [item.replace(\",\", \"\") for item in features[feature] if\n",
        "                      item in description.lower()]\n",
        "\n",
        "    if feature == \"technologies\":\n",
        "      if \" react\" in found_items or \" react \" in found_items:\n",
        "        found_items = [item for item in found_items if item not in [\" react\", \" react \"]]\n",
        "        found_items.append(\"react\")\n",
        "      if \"nodejs\" in found_items:\n",
        "        found_items = [item for item in found_items if item not in [\"nodejs\"]]\n",
        "        found_items.append(\"node.js\")\n",
        "\n",
        "  return list(set(found_items))\n",
        "\n",
        "\n",
        "for feature in features.keys():\n",
        "  df[feature.capitalize()] = df[\"Description\"].apply(\n",
        "      lambda x: find_items(x, feature))"
      ],
      "metadata": {
        "id": "CDDCTfqxTshu"
      },
      "execution_count": 16,
      "outputs": []
    },
    {
      "cell_type": "markdown",
      "source": [
        "**Save new df**"
      ],
      "metadata": {
        "id": "iwI4L6s4vBV6"
      }
    },
    {
      "cell_type": "code",
      "source": [
        "df.to_csv(\"data_processed.csv\", index=False)"
      ],
      "metadata": {
        "id": "MxM99q1du4Ew"
      },
      "execution_count": 17,
      "outputs": []
    }
  ]
}