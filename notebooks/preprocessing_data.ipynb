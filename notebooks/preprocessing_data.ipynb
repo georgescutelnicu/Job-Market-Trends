{
  "nbformat": 4,
  "nbformat_minor": 0,
  "metadata": {
    "colab": {
      "provenance": []
    },
    "kernelspec": {
      "name": "python3",
      "display_name": "Python 3"
    },
    "language_info": {
      "name": "python"
    }
  },
  "cells": [
    {
      "cell_type": "markdown",
      "source": [
        "**Libraries**"
      ],
      "metadata": {
        "id": "v5e9pGdASS4A"
      }
    },
    {
      "cell_type": "code",
      "execution_count": 1,
      "metadata": {
        "colab": {
          "base_uri": "https://localhost:8080/"
        },
        "id": "SaJ_opso8dpY",
        "outputId": "afc14a06-6957-4f21-e3d5-2948c99736f9"
      },
      "outputs": [
        {
          "output_type": "stream",
          "name": "stdout",
          "text": [
            "Requirement already satisfied: pandas in /usr/local/lib/python3.10/dist-packages (2.0.3)\n",
            "Requirement already satisfied: python-dateutil>=2.8.2 in /usr/local/lib/python3.10/dist-packages (from pandas) (2.8.2)\n",
            "Requirement already satisfied: pytz>=2020.1 in /usr/local/lib/python3.10/dist-packages (from pandas) (2023.4)\n",
            "Requirement already satisfied: tzdata>=2022.1 in /usr/local/lib/python3.10/dist-packages (from pandas) (2024.1)\n",
            "Requirement already satisfied: numpy>=1.21.0 in /usr/local/lib/python3.10/dist-packages (from pandas) (1.25.2)\n",
            "Requirement already satisfied: six>=1.5 in /usr/local/lib/python3.10/dist-packages (from python-dateutil>=2.8.2->pandas) (1.16.0)\n"
          ]
        }
      ],
      "source": [
        "!pip install pandas"
      ]
    },
    {
      "cell_type": "code",
      "source": [
        "import pandas as pd"
      ],
      "metadata": {
        "id": "WeW2bcjqotDi"
      },
      "execution_count": 2,
      "outputs": []
    },
    {
      "cell_type": "markdown",
      "source": [
        "**Data Examination**"
      ],
      "metadata": {
        "id": "vh6DcouJrPzM"
      }
    },
    {
      "cell_type": "code",
      "source": [
        "df = pd.read_csv(\"data.csv\")"
      ],
      "metadata": {
        "id": "XRP3Nl-sSR8Q"
      },
      "execution_count": 3,
      "outputs": []
    },
    {
      "cell_type": "code",
      "source": [
        "df.head(10)"
      ],
      "metadata": {
        "colab": {
          "base_uri": "https://localhost:8080/",
          "height": 554
        },
        "id": "N9g00lBeSahL",
        "outputId": "a4b88009-9360-4fba-e3ca-b81e4788b5e0"
      },
      "execution_count": 4,
      "outputs": [
        {
          "output_type": "execute_result",
          "data": {
            "text/plain": [
              "                                               Title  \\\n",
              "0  (Fluent English or Ukrainian) Data Scientist (...   \n",
              "1            (Global Oil Gas) Finance Data Scientist   \n",
              "2            (Global Oil Gas) Finance Data Scientist   \n",
              "3            (Global Oil Gas) Finance Data Scientist   \n",
              "4              (remote) Cloud Engineer (with FinOps)   \n",
              "5     (Senior) Data Scientists - based in Luxembourg   \n",
              "6     (Senior) Data Scientists - based in Luxembourg   \n",
              "7   (Senior) DevSecOps Engineer– based in Luxembourg   \n",
              "8             .NET Backend Developer - Mid or Senior   \n",
              "9             .NET Backend Developer - Mid or Senior   \n",
              "\n",
              "                          Company                     Location  \\\n",
              "0              Outstaff Your Team                    Bucharest   \n",
              "1                    MatchaTalent           Bucharest, Romania   \n",
              "2                    MatchaTalent           Bucharest, Romania   \n",
              "3                    MatchaTalent           Bucharest, Romania   \n",
              "4                HORNBACH Romania  Bucharest Metropolitan Area   \n",
              "5  European Investment Bank (EIB)                    Bucharest   \n",
              "6  European Investment Bank (EIB)                    Bucharest   \n",
              "7  European Investment Bank (EIB)                    Bucharest   \n",
              "8              Mindera - Portugal                  Cluj-Napoca   \n",
              "9              Mindera - Portugal                  Cluj-Napoca   \n",
              "\n",
              "                  Number of Applicants                 Experience  \\\n",
              "0  Fiți printre primii 25 de candidați  Nivel mediu de experiență   \n",
              "1  Fiți printre primii 25 de candidați  Nivel mediu de experiență   \n",
              "2  Fiți printre primii 25 de candidați  Nivel mediu de experiență   \n",
              "3  Fiți printre primii 25 de candidați  Nivel mediu de experiență   \n",
              "4  Fiți printre primii 25 de candidați                  Full-time   \n",
              "5                      27 de candidați               Nu se aplică   \n",
              "6                      27 de candidați               Nu se aplică   \n",
              "7  Fiți printre primii 25 de candidați               Nu se aplică   \n",
              "8  Fiți printre primii 25 de candidați  Nivel mediu de experiență   \n",
              "9  Fiți printre primii 25 de candidați  Nivel mediu de experiență   \n",
              "\n",
              "  Employment Type                                        Description  \n",
              "0       Full-time  Our spin-off product and team are looking for ...  \n",
              "1       Full-time  This role required candidate to permanently re...  \n",
              "2       Full-time  This role required candidate to permanently re...  \n",
              "3       Full-time  This role required candidate to permanently re...  \n",
              "4         Unknown  Technology is not everything for HORNBACH's su...  \n",
              "5        Contract  The positions are based at our Luxembourg head...  \n",
              "6        Contract  The positions are based at our Luxembourg head...  \n",
              "7        Contract  This position is based at our Luxembourg headq...  \n",
              "8       Full-time  Here at Mindera, we are continuously developin...  \n",
              "9       Full-time  Here at Mindera, we are continuously developin...  "
            ],
            "text/html": [
              "\n",
              "  <div id=\"df-20ab2337-486e-4d80-ba50-e63ac9e02e1b\" class=\"colab-df-container\">\n",
              "    <div>\n",
              "<style scoped>\n",
              "    .dataframe tbody tr th:only-of-type {\n",
              "        vertical-align: middle;\n",
              "    }\n",
              "\n",
              "    .dataframe tbody tr th {\n",
              "        vertical-align: top;\n",
              "    }\n",
              "\n",
              "    .dataframe thead th {\n",
              "        text-align: right;\n",
              "    }\n",
              "</style>\n",
              "<table border=\"1\" class=\"dataframe\">\n",
              "  <thead>\n",
              "    <tr style=\"text-align: right;\">\n",
              "      <th></th>\n",
              "      <th>Title</th>\n",
              "      <th>Company</th>\n",
              "      <th>Location</th>\n",
              "      <th>Number of Applicants</th>\n",
              "      <th>Experience</th>\n",
              "      <th>Employment Type</th>\n",
              "      <th>Description</th>\n",
              "    </tr>\n",
              "  </thead>\n",
              "  <tbody>\n",
              "    <tr>\n",
              "      <th>0</th>\n",
              "      <td>(Fluent English or Ukrainian) Data Scientist (...</td>\n",
              "      <td>Outstaff Your Team</td>\n",
              "      <td>Bucharest</td>\n",
              "      <td>Fiți printre primii 25 de candidați</td>\n",
              "      <td>Nivel mediu de experiență</td>\n",
              "      <td>Full-time</td>\n",
              "      <td>Our spin-off product and team are looking for ...</td>\n",
              "    </tr>\n",
              "    <tr>\n",
              "      <th>1</th>\n",
              "      <td>(Global Oil Gas) Finance Data Scientist</td>\n",
              "      <td>MatchaTalent</td>\n",
              "      <td>Bucharest, Romania</td>\n",
              "      <td>Fiți printre primii 25 de candidați</td>\n",
              "      <td>Nivel mediu de experiență</td>\n",
              "      <td>Full-time</td>\n",
              "      <td>This role required candidate to permanently re...</td>\n",
              "    </tr>\n",
              "    <tr>\n",
              "      <th>2</th>\n",
              "      <td>(Global Oil Gas) Finance Data Scientist</td>\n",
              "      <td>MatchaTalent</td>\n",
              "      <td>Bucharest, Romania</td>\n",
              "      <td>Fiți printre primii 25 de candidați</td>\n",
              "      <td>Nivel mediu de experiență</td>\n",
              "      <td>Full-time</td>\n",
              "      <td>This role required candidate to permanently re...</td>\n",
              "    </tr>\n",
              "    <tr>\n",
              "      <th>3</th>\n",
              "      <td>(Global Oil Gas) Finance Data Scientist</td>\n",
              "      <td>MatchaTalent</td>\n",
              "      <td>Bucharest, Romania</td>\n",
              "      <td>Fiți printre primii 25 de candidați</td>\n",
              "      <td>Nivel mediu de experiență</td>\n",
              "      <td>Full-time</td>\n",
              "      <td>This role required candidate to permanently re...</td>\n",
              "    </tr>\n",
              "    <tr>\n",
              "      <th>4</th>\n",
              "      <td>(remote) Cloud Engineer (with FinOps)</td>\n",
              "      <td>HORNBACH Romania</td>\n",
              "      <td>Bucharest Metropolitan Area</td>\n",
              "      <td>Fiți printre primii 25 de candidați</td>\n",
              "      <td>Full-time</td>\n",
              "      <td>Unknown</td>\n",
              "      <td>Technology is not everything for HORNBACH's su...</td>\n",
              "    </tr>\n",
              "    <tr>\n",
              "      <th>5</th>\n",
              "      <td>(Senior) Data Scientists - based in Luxembourg</td>\n",
              "      <td>European Investment Bank (EIB)</td>\n",
              "      <td>Bucharest</td>\n",
              "      <td>27 de candidați</td>\n",
              "      <td>Nu se aplică</td>\n",
              "      <td>Contract</td>\n",
              "      <td>The positions are based at our Luxembourg head...</td>\n",
              "    </tr>\n",
              "    <tr>\n",
              "      <th>6</th>\n",
              "      <td>(Senior) Data Scientists - based in Luxembourg</td>\n",
              "      <td>European Investment Bank (EIB)</td>\n",
              "      <td>Bucharest</td>\n",
              "      <td>27 de candidați</td>\n",
              "      <td>Nu se aplică</td>\n",
              "      <td>Contract</td>\n",
              "      <td>The positions are based at our Luxembourg head...</td>\n",
              "    </tr>\n",
              "    <tr>\n",
              "      <th>7</th>\n",
              "      <td>(Senior) DevSecOps Engineer– based in Luxembourg</td>\n",
              "      <td>European Investment Bank (EIB)</td>\n",
              "      <td>Bucharest</td>\n",
              "      <td>Fiți printre primii 25 de candidați</td>\n",
              "      <td>Nu se aplică</td>\n",
              "      <td>Contract</td>\n",
              "      <td>This position is based at our Luxembourg headq...</td>\n",
              "    </tr>\n",
              "    <tr>\n",
              "      <th>8</th>\n",
              "      <td>.NET Backend Developer - Mid or Senior</td>\n",
              "      <td>Mindera - Portugal</td>\n",
              "      <td>Cluj-Napoca</td>\n",
              "      <td>Fiți printre primii 25 de candidați</td>\n",
              "      <td>Nivel mediu de experiență</td>\n",
              "      <td>Full-time</td>\n",
              "      <td>Here at Mindera, we are continuously developin...</td>\n",
              "    </tr>\n",
              "    <tr>\n",
              "      <th>9</th>\n",
              "      <td>.NET Backend Developer - Mid or Senior</td>\n",
              "      <td>Mindera - Portugal</td>\n",
              "      <td>Cluj-Napoca</td>\n",
              "      <td>Fiți printre primii 25 de candidați</td>\n",
              "      <td>Nivel mediu de experiență</td>\n",
              "      <td>Full-time</td>\n",
              "      <td>Here at Mindera, we are continuously developin...</td>\n",
              "    </tr>\n",
              "  </tbody>\n",
              "</table>\n",
              "</div>\n",
              "    <div class=\"colab-df-buttons\">\n",
              "\n",
              "  <div class=\"colab-df-container\">\n",
              "    <button class=\"colab-df-convert\" onclick=\"convertToInteractive('df-20ab2337-486e-4d80-ba50-e63ac9e02e1b')\"\n",
              "            title=\"Convert this dataframe to an interactive table.\"\n",
              "            style=\"display:none;\">\n",
              "\n",
              "  <svg xmlns=\"http://www.w3.org/2000/svg\" height=\"24px\" viewBox=\"0 -960 960 960\">\n",
              "    <path d=\"M120-120v-720h720v720H120Zm60-500h600v-160H180v160Zm220 220h160v-160H400v160Zm0 220h160v-160H400v160ZM180-400h160v-160H180v160Zm440 0h160v-160H620v160ZM180-180h160v-160H180v160Zm440 0h160v-160H620v160Z\"/>\n",
              "  </svg>\n",
              "    </button>\n",
              "\n",
              "  <style>\n",
              "    .colab-df-container {\n",
              "      display:flex;\n",
              "      gap: 12px;\n",
              "    }\n",
              "\n",
              "    .colab-df-convert {\n",
              "      background-color: #E8F0FE;\n",
              "      border: none;\n",
              "      border-radius: 50%;\n",
              "      cursor: pointer;\n",
              "      display: none;\n",
              "      fill: #1967D2;\n",
              "      height: 32px;\n",
              "      padding: 0 0 0 0;\n",
              "      width: 32px;\n",
              "    }\n",
              "\n",
              "    .colab-df-convert:hover {\n",
              "      background-color: #E2EBFA;\n",
              "      box-shadow: 0px 1px 2px rgba(60, 64, 67, 0.3), 0px 1px 3px 1px rgba(60, 64, 67, 0.15);\n",
              "      fill: #174EA6;\n",
              "    }\n",
              "\n",
              "    .colab-df-buttons div {\n",
              "      margin-bottom: 4px;\n",
              "    }\n",
              "\n",
              "    [theme=dark] .colab-df-convert {\n",
              "      background-color: #3B4455;\n",
              "      fill: #D2E3FC;\n",
              "    }\n",
              "\n",
              "    [theme=dark] .colab-df-convert:hover {\n",
              "      background-color: #434B5C;\n",
              "      box-shadow: 0px 1px 3px 1px rgba(0, 0, 0, 0.15);\n",
              "      filter: drop-shadow(0px 1px 2px rgba(0, 0, 0, 0.3));\n",
              "      fill: #FFFFFF;\n",
              "    }\n",
              "  </style>\n",
              "\n",
              "    <script>\n",
              "      const buttonEl =\n",
              "        document.querySelector('#df-20ab2337-486e-4d80-ba50-e63ac9e02e1b button.colab-df-convert');\n",
              "      buttonEl.style.display =\n",
              "        google.colab.kernel.accessAllowed ? 'block' : 'none';\n",
              "\n",
              "      async function convertToInteractive(key) {\n",
              "        const element = document.querySelector('#df-20ab2337-486e-4d80-ba50-e63ac9e02e1b');\n",
              "        const dataTable =\n",
              "          await google.colab.kernel.invokeFunction('convertToInteractive',\n",
              "                                                    [key], {});\n",
              "        if (!dataTable) return;\n",
              "\n",
              "        const docLinkHtml = 'Like what you see? Visit the ' +\n",
              "          '<a target=\"_blank\" href=https://colab.research.google.com/notebooks/data_table.ipynb>data table notebook</a>'\n",
              "          + ' to learn more about interactive tables.';\n",
              "        element.innerHTML = '';\n",
              "        dataTable['output_type'] = 'display_data';\n",
              "        await google.colab.output.renderOutput(dataTable, element);\n",
              "        const docLink = document.createElement('div');\n",
              "        docLink.innerHTML = docLinkHtml;\n",
              "        element.appendChild(docLink);\n",
              "      }\n",
              "    </script>\n",
              "  </div>\n",
              "\n",
              "\n",
              "<div id=\"df-770e32fd-f205-4091-b770-d508c5483117\">\n",
              "  <button class=\"colab-df-quickchart\" onclick=\"quickchart('df-770e32fd-f205-4091-b770-d508c5483117')\"\n",
              "            title=\"Suggest charts\"\n",
              "            style=\"display:none;\">\n",
              "\n",
              "<svg xmlns=\"http://www.w3.org/2000/svg\" height=\"24px\"viewBox=\"0 0 24 24\"\n",
              "     width=\"24px\">\n",
              "    <g>\n",
              "        <path d=\"M19 3H5c-1.1 0-2 .9-2 2v14c0 1.1.9 2 2 2h14c1.1 0 2-.9 2-2V5c0-1.1-.9-2-2-2zM9 17H7v-7h2v7zm4 0h-2V7h2v10zm4 0h-2v-4h2v4z\"/>\n",
              "    </g>\n",
              "</svg>\n",
              "  </button>\n",
              "\n",
              "<style>\n",
              "  .colab-df-quickchart {\n",
              "      --bg-color: #E8F0FE;\n",
              "      --fill-color: #1967D2;\n",
              "      --hover-bg-color: #E2EBFA;\n",
              "      --hover-fill-color: #174EA6;\n",
              "      --disabled-fill-color: #AAA;\n",
              "      --disabled-bg-color: #DDD;\n",
              "  }\n",
              "\n",
              "  [theme=dark] .colab-df-quickchart {\n",
              "      --bg-color: #3B4455;\n",
              "      --fill-color: #D2E3FC;\n",
              "      --hover-bg-color: #434B5C;\n",
              "      --hover-fill-color: #FFFFFF;\n",
              "      --disabled-bg-color: #3B4455;\n",
              "      --disabled-fill-color: #666;\n",
              "  }\n",
              "\n",
              "  .colab-df-quickchart {\n",
              "    background-color: var(--bg-color);\n",
              "    border: none;\n",
              "    border-radius: 50%;\n",
              "    cursor: pointer;\n",
              "    display: none;\n",
              "    fill: var(--fill-color);\n",
              "    height: 32px;\n",
              "    padding: 0;\n",
              "    width: 32px;\n",
              "  }\n",
              "\n",
              "  .colab-df-quickchart:hover {\n",
              "    background-color: var(--hover-bg-color);\n",
              "    box-shadow: 0 1px 2px rgba(60, 64, 67, 0.3), 0 1px 3px 1px rgba(60, 64, 67, 0.15);\n",
              "    fill: var(--button-hover-fill-color);\n",
              "  }\n",
              "\n",
              "  .colab-df-quickchart-complete:disabled,\n",
              "  .colab-df-quickchart-complete:disabled:hover {\n",
              "    background-color: var(--disabled-bg-color);\n",
              "    fill: var(--disabled-fill-color);\n",
              "    box-shadow: none;\n",
              "  }\n",
              "\n",
              "  .colab-df-spinner {\n",
              "    border: 2px solid var(--fill-color);\n",
              "    border-color: transparent;\n",
              "    border-bottom-color: var(--fill-color);\n",
              "    animation:\n",
              "      spin 1s steps(1) infinite;\n",
              "  }\n",
              "\n",
              "  @keyframes spin {\n",
              "    0% {\n",
              "      border-color: transparent;\n",
              "      border-bottom-color: var(--fill-color);\n",
              "      border-left-color: var(--fill-color);\n",
              "    }\n",
              "    20% {\n",
              "      border-color: transparent;\n",
              "      border-left-color: var(--fill-color);\n",
              "      border-top-color: var(--fill-color);\n",
              "    }\n",
              "    30% {\n",
              "      border-color: transparent;\n",
              "      border-left-color: var(--fill-color);\n",
              "      border-top-color: var(--fill-color);\n",
              "      border-right-color: var(--fill-color);\n",
              "    }\n",
              "    40% {\n",
              "      border-color: transparent;\n",
              "      border-right-color: var(--fill-color);\n",
              "      border-top-color: var(--fill-color);\n",
              "    }\n",
              "    60% {\n",
              "      border-color: transparent;\n",
              "      border-right-color: var(--fill-color);\n",
              "    }\n",
              "    80% {\n",
              "      border-color: transparent;\n",
              "      border-right-color: var(--fill-color);\n",
              "      border-bottom-color: var(--fill-color);\n",
              "    }\n",
              "    90% {\n",
              "      border-color: transparent;\n",
              "      border-bottom-color: var(--fill-color);\n",
              "    }\n",
              "  }\n",
              "</style>\n",
              "\n",
              "  <script>\n",
              "    async function quickchart(key) {\n",
              "      const quickchartButtonEl =\n",
              "        document.querySelector('#' + key + ' button');\n",
              "      quickchartButtonEl.disabled = true;  // To prevent multiple clicks.\n",
              "      quickchartButtonEl.classList.add('colab-df-spinner');\n",
              "      try {\n",
              "        const charts = await google.colab.kernel.invokeFunction(\n",
              "            'suggestCharts', [key], {});\n",
              "      } catch (error) {\n",
              "        console.error('Error during call to suggestCharts:', error);\n",
              "      }\n",
              "      quickchartButtonEl.classList.remove('colab-df-spinner');\n",
              "      quickchartButtonEl.classList.add('colab-df-quickchart-complete');\n",
              "    }\n",
              "    (() => {\n",
              "      let quickchartButtonEl =\n",
              "        document.querySelector('#df-770e32fd-f205-4091-b770-d508c5483117 button');\n",
              "      quickchartButtonEl.style.display =\n",
              "        google.colab.kernel.accessAllowed ? 'block' : 'none';\n",
              "    })();\n",
              "  </script>\n",
              "</div>\n",
              "\n",
              "    </div>\n",
              "  </div>\n"
            ],
            "application/vnd.google.colaboratory.intrinsic+json": {
              "type": "dataframe",
              "variable_name": "df",
              "summary": "{\n  \"name\": \"df\",\n  \"rows\": 4003,\n  \"fields\": [\n    {\n      \"column\": \"Title\",\n      \"properties\": {\n        \"dtype\": \"category\",\n        \"num_unique_values\": 1184,\n        \"samples\": [\n          \"Dual Master: Junior Data Manager (m/f/d) HR Reward & Performance, Allianz in Munich, Germany\",\n          \"Senior JAVA Developer - 100% remoto\",\n          \"Software Quality Engineer | Manual | Web | Garmin Connect Team | 2 roles\"\n        ],\n        \"semantic_type\": \"\",\n        \"description\": \"\"\n      }\n    },\n    {\n      \"column\": \"Company\",\n      \"properties\": {\n        \"dtype\": \"category\",\n        \"num_unique_values\": 595,\n        \"samples\": [\n          \"ING Hubs Romania\",\n          \"eSolutions.tech\",\n          \"De'Longhi Group\"\n        ],\n        \"semantic_type\": \"\",\n        \"description\": \"\"\n      }\n    },\n    {\n      \"column\": \"Location\",\n      \"properties\": {\n        \"dtype\": \"category\",\n        \"num_unique_values\": 80,\n        \"samples\": [\n          \"Milcov\",\n          \"Bucharest\",\n          \"Sector 2\"\n        ],\n        \"semantic_type\": \"\",\n        \"description\": \"\"\n      }\n    },\n    {\n      \"column\": \"Number of Applicants\",\n      \"properties\": {\n        \"dtype\": \"category\",\n        \"num_unique_values\": 168,\n        \"samples\": [\n          \"117 candida\\u021bi\",\n          \"39 de candida\\u021bi\",\n          \"179 de candida\\u021bi\"\n        ],\n        \"semantic_type\": \"\",\n        \"description\": \"\"\n      }\n    },\n    {\n      \"column\": \"Experience\",\n      \"properties\": {\n        \"dtype\": \"category\",\n        \"num_unique_values\": 9,\n        \"samples\": [\n          \"Contract\",\n          \"Full-time\",\n          \"Asociat\"\n        ],\n        \"semantic_type\": \"\",\n        \"description\": \"\"\n      }\n    },\n    {\n      \"column\": \"Employment Type\",\n      \"properties\": {\n        \"dtype\": \"category\",\n        \"num_unique_values\": 10,\n        \"samples\": [\n          \"Temporar\",\n          \"Unknown\",\n          \"Altele\"\n        ],\n        \"semantic_type\": \"\",\n        \"description\": \"\"\n      }\n    },\n    {\n      \"column\": \"Description\",\n      \"properties\": {\n        \"dtype\": \"category\",\n        \"num_unique_values\": 1779,\n        \"samples\": [\n          \"Your day to day:As a Senior Software Engineer, you will be part of an international team responsible for developing strategic tools used by Vodafone Group. Your work will involve finding and implementing the proper technical solutions to automate the lifecycle of SDWAN products, including zero-touch provisioning, inventory management, alarm management and API standardization. All delivered functionalities must correspond to business requirements and at the same time fit Vodafone\\u2019s strategy for software engineering. The developed solutions are complex, containing databases, business logic, and integration with other components and systems, hence you will get the chance to work with various technologies and tools.With these activities you will have a great impact on our business:Develop well-structured code following company standardsDocument enhancements made and system changesAbility to excel in a distributed team model environmentProvide input to impact analysis on other systemsCoordinate the code development and delivery process based on requirements, considering all the aspects of product development life cycleProvide accurate estimates (time & effort) for upcoming features based on specificationsMentor colleagues who have less experience and contribute to their growth With these skills you are a great candidate:Demonstrated industry experience in software development: Python, APIs (TMforum), MEF data models, unit & integration testingProfessional experience with data processing & data manipulationGood experience with DevOps technologies: AWS, docker, Kubernetes, CI/CD pipelinesSDWAN automation experience (VeloCloud, Meraki, Fortinet, Mist) is a plusExperience with non-relational databases: Mongo DB, neo4jVersioning systems (Git)Agile experience (preferably Scrum, SAFe is a plus)Fluent in English (written and spoken)Sounds like the perfect job? We\\u2019ve got even more to offer:Work from Home\\u2013 Hybrid approachMedical and dental servicesLife insuranceDedicated employee phone subscriptionSpecial discounts for gyms and retailersAnnual Company BonusOngoing Education \\u2013 we continuously invest in you to ensure you have everything needed to excel on the job and enhance your skillsYou get to work with tried and trusted web-technologyGetting in on the ground floor of and technology changing companyFlexible Vacation \\u2013 Take time off when you need it, we trust you!We recognize and celebrate the importance of diversity and inclusivity in our workplace so that we are as diverse as the customers and communities we serve. We do not tolerate any form of discrimination especially related to but not limited to race, colour, age, veteran status, gender identification, sexual orientation, pregnancy, ethnicity, disability, religion, political affiliation, trade union membership, nationality, indigenous status, medical condition, HIV status, social origin, cultural background, social or marital status.Worried that you don\\u2019t meet all the desired criteria exactly? We are passionate about Inclusion for All and creating a workplace where everyone can thrive, whatever their personal or professional background. So, if you\\u2019re excited about this role but your experience doesn\\u2019t align exactly with every part of the job advert, we encourage you to apply as you may be just the right candidate for this role or another role, and our recruitment team can help see how your skills fit in.#_VOIS\",\n          \"OPSWAT is a global cyber security company providing solutions for enterprises since 2002 to identify, detect, and remediate advanced security threats from data and devices coming into and out their networks. Trusted by over 1,000 organizations worldwide and with over 30 anti-malware engines, 100+ data sanitization engines and more than 25 technology integration partners, OPSWAT is a pioneer and leader in data sanitization, vulnerability detection, multi-scanning, device compliance, and cloud access control.OPSWAT. Protecting the World\\u2019s Critical InfrastructureThe PositionWe are seeking a skilled DevOps Engineer with a passion for cybersecurity and a keen interest in cloud technologies across various major platforms such as AWS and Azure. The successful candidate will play a crucial role in fortifying our enterprise storage solutions, ensuring they are robust, secure, and optimized for performance. Join us in our mission to safeguard critical data and infrastructure, leveraging the latest in cloud technology to build and maintain a secure, scalable environment.What You Will Be DoingEmbracing an agile and dynamic work environment, adapting to changing priorities and technologies to meet organizational goalsCollaborating closely with customers to understand their needs, provide expert guidance, and ensure their security requirements are met effectivelyDesigning and developing scalable cloud-based solutions across major platforms such as AWS and Azure, with a focus on robust security measuresPrioritizing performance optimization across all implementations, ensuring systems are efficient, responsive, and capable of handling enterprise-level workloadsCreating comprehensive documentation for all developed systems and processes, facilitating knowledge sharing and continuity within the teamDriving innovation by researching and integrating the latest in cloud and cybersecurity technologies, contributing to continuous improvement and staying ahead of emerging threatsWhat We Need From YouProven working experience with at least one major cloud provider (AWS, Azure)Practical knowledge of Kubernetes (K8s)Proficiency in managed cloud services like Amazon S3, Amazon RDS, Amazon MQ, Amazon SNS, or similar technologiesUnderstanding of distributed systems architecture and principlesProficiency in Docker and containerization techniquesExperience in monitoring and maintaining software systemsProficiency in at least one scripting language (e.g., Bash, Python)Nice to haveExperience with Kubernetes services on Amazon (Amazon EKS) and Azure (Azure AKS) to orchestrate containerized applications, ensuring scalable and reliable deploymentFamiliarity with infrastructure as code (IaC) tools such as Terraform or CloudFormation for automating the setup and maintenance of cloud infrastructureProficiency in continuous integration and continuous deployment (CI/CD) pipelines using tools like Jenkins, GitLab CI, or GitHub Actions to streamline development workflowsUnderstanding of monitoring and logging tools (e.g., Prometheus, Grafana, ELK stack) for performance tracking and operational insight into applications and infrastructureProficiency in implementing and managing cloud storage solutions, including Amazon S3, Azure Blob Storage, and their security features, alongside a deep understanding of cloud security policies and best practices to safeguard data and applications in the cloudInsight into the challenges of operating software at scaleOPSWAT is an equal opportunity employer. We celebrate diversity and are committed to providing an environment where equal employment opportunities are extended to all employees and applicants, free of discrimination and harassment of any type. All employment decisions are based on individual qualifications, job requirements, and business needs without regard to race, color, religion, age, sex, national origin, disability status, genetics, protected veteran status, sexual orientation, gender identity or expression, or any other category protected by federal, state, or local laws.We do not accept unsolicited resumes for any of our open positions. To submit resumes for our jobs, there must be a recruiting contract approved by our legal team and endorsed by both parties. We are currently not accepting additional 3rd party agencies at this time.\",\n          \"As a trusted global transformation partner, Welocalize accelerates the global business journey by enabling brands and companies to reach, engage, and grow international audiences. Welocalize delivers multilingual content transformation services in translation, localization, and adaptation for over 250 languages with a growing network of over 400,000 in-country linguistic resources. Driving innovation in language services, Welocalize delivers high-quality training data transformation solutions for NLP-enabled machine learning by blending technology and human intelligence to collect, annotate, and evaluate all content types. Our team works across locations in North America, Europe, and Asia serving our global clients in the markets that matter to them. www.welocalize.comTo perform this job successfully, an individual must be able to perform each essential duty satisfactorily. The requirements listed below are representative of the knowledge, skill, and/or ability required. Reasonable accommodations may be made to enable individuals with disabilities to perform the essential functions.Role OverviewWe are seeking a Senior Product Manager to develop a visionary tech strategy for the lifecycle management of clinical trial documents, including their translation and localization. This role will focus on creating sophisticated, scalable tech solutions that streamline processes and enhance efficiency and compliance across global markets.Your day-to-day will include working with stakeholders in our Life Sciences business line to identify impactful opportunities, measure that impact, and prioritize projects on the Life Sciences roadmap.You will report into an established Product organization that has a record of excellence and established best practices.Main DutiesDevelop and execute a product strategy that encompasses the entire lifecycle of clinical trial documents from creation to translation and final delivery. Collaborate with cross-functional teams including engineers, UX designers, and other stakeholders to design and deploy innovative tech solutions. Act as the bridge between technology and business, ensuring that solutions meet market needs and regulatory requirements. Own the product roadmap, defining and prioritizing features and enhancements to improve client satisfaction and operational excellence. Craft comprehensive design specifications within an agile development framework. Lead the ideation, technical development, and launch of innovative products that integrate seamlessly into the lives of patients and researchers. Establish and nurture strong relationships with clients, ensuring their needs are met and expectations are exceeded.Requirements5+ years of Product Management experience, preferably in tech-centric roles within life sciences or a closely related field.Demonstrated ability to develop tech strategies and solutions for complex business challenges. Exceptional communication skills tailored to varying audiences, from C-level executives to technical teams. Proven track record in leading and delivering tech projects with high precision and user-centric focus. Independent problem-solving skills, with a capacity to drive innovation in a dynamic environment.Experience with clinical trial management systems or patient data handling is preferred. Familiarity with global regulatory requirements pertaining to clinical trials and document management will be valued. Proficiency in digital product design tools such as Figma, Sketch, or InVision. Background in cloud solutions, SaaS platforms, or enterprise software development.\"\n        ],\n        \"semantic_type\": \"\",\n        \"description\": \"\"\n      }\n    }\n  ]\n}"
            }
          },
          "metadata": {},
          "execution_count": 4
        }
      ]
    },
    {
      "cell_type": "code",
      "source": [
        "df.info()"
      ],
      "metadata": {
        "colab": {
          "base_uri": "https://localhost:8080/"
        },
        "id": "VSkzVW6nSbLy",
        "outputId": "f00b3d09-9e8e-48ac-83f6-d3e14a6db2de"
      },
      "execution_count": 5,
      "outputs": [
        {
          "output_type": "stream",
          "name": "stdout",
          "text": [
            "<class 'pandas.core.frame.DataFrame'>\n",
            "RangeIndex: 4003 entries, 0 to 4002\n",
            "Data columns (total 7 columns):\n",
            " #   Column                Non-Null Count  Dtype \n",
            "---  ------                --------------  ----- \n",
            " 0   Title                 4003 non-null   object\n",
            " 1   Company               4003 non-null   object\n",
            " 2   Location              4003 non-null   object\n",
            " 3   Number of Applicants  4003 non-null   object\n",
            " 4   Experience            4003 non-null   object\n",
            " 5   Employment Type       4003 non-null   object\n",
            " 6   Description           4003 non-null   object\n",
            "dtypes: object(7)\n",
            "memory usage: 219.0+ KB\n"
          ]
        }
      ]
    },
    {
      "cell_type": "code",
      "source": [
        "df.isna().sum(), (df == \"Unknown\").sum()"
      ],
      "metadata": {
        "colab": {
          "base_uri": "https://localhost:8080/"
        },
        "id": "5WefTZL5TWI0",
        "outputId": "2af3cfb0-3aa9-4df5-c3a3-e211c25ae5b0"
      },
      "execution_count": 6,
      "outputs": [
        {
          "output_type": "execute_result",
          "data": {
            "text/plain": [
              "(Title                   0\n",
              " Company                 0\n",
              " Location                0\n",
              " Number of Applicants    0\n",
              " Experience              0\n",
              " Employment Type         0\n",
              " Description             0\n",
              " dtype: int64,\n",
              " Title                     0\n",
              " Company                   0\n",
              " Location                  0\n",
              " Number of Applicants      0\n",
              " Experience                0\n",
              " Employment Type         214\n",
              " Description               0\n",
              " dtype: int64)"
            ]
          },
          "metadata": {},
          "execution_count": 6
        }
      ]
    },
    {
      "cell_type": "code",
      "source": [
        "for col in df.columns[:-1]:\n",
        "  print(df[col].value_counts())\n",
        "  print(\"\\n\")"
      ],
      "metadata": {
        "colab": {
          "base_uri": "https://localhost:8080/"
        },
        "id": "tLyRKy5JTold",
        "outputId": "b3fcd176-550a-4934-bf19-66e3f23716c6"
      },
      "execution_count": 7,
      "outputs": [
        {
          "output_type": "stream",
          "name": "stdout",
          "text": [
            "Title\n",
            "Software Engineer                                                         202\n",
            "Java Developer                                                             96\n",
            "DevOps Engineer                                                            85\n",
            "Data Engineer                                                              82\n",
            "Python Developer                                                           56\n",
            "                                                                         ... \n",
            "Quality Analyst                                                             1\n",
            "Qt / C++ Senior Software Developer                                          1\n",
            "Embedded Software Engineer for Battery Management Systems Applications      1\n",
            "QA/QC Engineer - Oil & Gas (Saudi Arabia)                                   1\n",
            "(Fluent English or Ukrainian) Data Scientist (NLP, LLM, Pytorch)            1\n",
            "Name: count, Length: 1184, dtype: int64\n",
            "\n",
            "\n",
            "Company\n",
            "Microsoft             179\n",
            "MindPal               131\n",
            "Deutsche Bank         126\n",
            "Luxoft                120\n",
            "Hipo.ro                95\n",
            "                     ... \n",
            "Alpha Bank Romania      1\n",
            "Veeam Software          1\n",
            "Bending Spoons          1\n",
            "ERPA HR                 1\n",
            "Outstaff Your Team      1\n",
            "Name: count, Length: 595, dtype: int64\n",
            "\n",
            "\n",
            "Location\n",
            "Bucharest                      1178\n",
            "Romania                         663\n",
            "Bucharest, Romania              638\n",
            "Cluj-Napoca                     344\n",
            "Bucharest Metropolitan Area     284\n",
            "                               ... \n",
            "Valea Iaşului                     1\n",
            "Buzău, Romania                    1\n",
            "Salonta                           1\n",
            "Ghiroda                           1\n",
            "Satu Mare, Romania                1\n",
            "Name: count, Length: 80, dtype: int64\n",
            "\n",
            "\n",
            "Number of Applicants\n",
            "Fiți printre primii 25 de candidați    1391\n",
            "Peste 200 de candidați                  494\n",
            "26 de candidați                          56\n",
            "25 de candidați                          55\n",
            "29 de candidați                          47\n",
            "                                       ... \n",
            "113 candidați                             1\n",
            "144 de candidați                          1\n",
            "111 candidați                             1\n",
            "166 de candidați                          1\n",
            "115 candidați                             1\n",
            "Name: count, Length: 168, dtype: int64\n",
            "\n",
            "\n",
            "Experience\n",
            "Nivel mediu de experiență    2278\n",
            "Începător                     648\n",
            "Nu se aplică                  519\n",
            "Asociat                       244\n",
            "Full-time                     224\n",
            "Stagiar                        51\n",
            "Director                       28\n",
            "Contract                        9\n",
            "Executiv                        2\n",
            "Name: count, dtype: int64\n",
            "\n",
            "\n",
            "Employment Type\n",
            "Full-time                              3539\n",
            "Unknown                                 214\n",
            "Contract                                151\n",
            "Altele                                   28\n",
            "Stagiar                                  20\n",
            "Part-time                                17\n",
            "Temporar                                 15\n",
            "Inginerie și Tehnologia informației      14\n",
            "Asigurarea calității                      3\n",
            "Tehnologia informației                    2\n",
            "Name: count, dtype: int64\n",
            "\n",
            "\n"
          ]
        }
      ]
    },
    {
      "cell_type": "markdown",
      "source": [
        "**Data Processing**"
      ],
      "metadata": {
        "id": "dtbEKuRJXswI"
      }
    },
    {
      "cell_type": "markdown",
      "source": [
        "Experience"
      ],
      "metadata": {
        "id": "FalVnIWbeHRq"
      }
    },
    {
      "cell_type": "code",
      "source": [
        "def update_experience(df, title_keywords, experience_level):\n",
        "  \"\"\"\n",
        "  Update the 'Experience' column based on keywords in the 'Title' column.\n",
        "  \"\"\"\n",
        "\n",
        "  mask = df[\"Title\"].str.contains('|'.join(title_keywords), case=False)\n",
        "  df.loc[mask, \"Experience\"] = experience_level\n",
        "\n",
        "\n",
        "experience_keywords = {\n",
        "  \"Senior\": [\"Senior\", \"Sr\"],\n",
        "  \"Junior\": [\"Junior\", \"Jr\"],\n",
        "  \"Mid\": [\"Mid\", \"Middle\"]\n",
        "}\n",
        "\n",
        "\n",
        "for level, keywords in experience_keywords.items():\n",
        "  update_experience(df, keywords, level)"
      ],
      "metadata": {
        "id": "Bfi4U9LqdjoA"
      },
      "execution_count": 8,
      "outputs": []
    },
    {
      "cell_type": "code",
      "source": [
        "def update_experience(df):\n",
        "  \"\"\"\n",
        "  Update the 'Experience' column based on specific keywords in the 'Experience' column.\n",
        "  \"\"\"\n",
        "\n",
        "  for idx, row in df.iterrows():\n",
        "    exp = row[\"Experience\"]\n",
        "\n",
        "    if \"mediu\" in exp:\n",
        "      df.at[idx, \"Experience\"] = \"Mid\"\n",
        "\n",
        "    elif \"Începător\" in exp:\n",
        "      df.at[idx, \"Experience\"] = \"Junior\"\n",
        "\n",
        "    elif \"Stagiar\" in exp:\n",
        "      df.at[idx, \"Experience\"] = \"Intern\"\n",
        "\n",
        "    elif \"Contract\" in exp:\n",
        "      df.at[idx, \"Experience\"] = \"Senior\"\n",
        "\n",
        "    elif \"Director\" in exp or \"Executiv\" in exp:\n",
        "      df.at[idx, \"Experience\"] = \"Executive\"\n",
        "\n",
        "    elif \"Nu se aplică\" in exp or \"Asociat\" in exp or \"Full-time\" in exp:\n",
        "      df.at[idx, \"Experience\"] = \"Unknown\"\n",
        "\n",
        "\n",
        "update_experience(df)"
      ],
      "metadata": {
        "id": "cmWJKtKUh_gC"
      },
      "execution_count": 9,
      "outputs": []
    },
    {
      "cell_type": "markdown",
      "source": [
        "Location"
      ],
      "metadata": {
        "id": "X0u8CsqIuMa7"
      }
    },
    {
      "cell_type": "code",
      "source": [
        "df[\"Location\"] = df[\"Location\"].str.split(\",\").str[0]"
      ],
      "metadata": {
        "id": "mxew2ZTZveJ3"
      },
      "execution_count": 10,
      "outputs": []
    },
    {
      "cell_type": "code",
      "source": [
        "df[\"Location\"] = df[\"Location\"].str.replace(\" Metropolitan Area\", \"\")"
      ],
      "metadata": {
        "id": "7Jzojh2qwUtu"
      },
      "execution_count": 11,
      "outputs": []
    },
    {
      "cell_type": "markdown",
      "source": [
        "Number of Applicants"
      ],
      "metadata": {
        "id": "ca_Mq8fPvpUc"
      }
    },
    {
      "cell_type": "code",
      "source": [
        "df[\"Number of Applicants\"] = df[\"Number of Applicants\"].apply(\n",
        "    lambda x: \"\".join(filter(str.isdigit, x)))"
      ],
      "metadata": {
        "id": "hX9D2S1rvpuP"
      },
      "execution_count": 12,
      "outputs": []
    },
    {
      "cell_type": "markdown",
      "source": [
        "Title"
      ],
      "metadata": {
        "id": "c568MqsBY2O-"
      }
    },
    {
      "cell_type": "code",
      "source": [
        "categories = {\n",
        "    \"DevOps & SysOps\": [\"ops\", \"administrator\", \"platform engineer\",\n",
        "                        \"system\", \"nanagement\", \"scrum\", \"agile\",\n",
        "                         \"cloud\", \"aws\", \"azure\"],\n",
        "    \"Quality Assurance & Testing\": [\"qa\", \"quality\", \"test\"],\n",
        "    \"Data Science & Machine Learning\": [\"data\", \"scientist\", \"machine\", \"ml\",\n",
        "                                        \"ai\", \"etl\", \"analytics\", \"analyst\",\n",
        "                                        \"analysis\", \"nlp\", \"bi\",\n",
        "                                        \"Business Intelligence\",]\n",
        "}\n",
        "\n",
        "\n",
        "def categorize_job_titles(title):\n",
        "  \"\"\"\n",
        "  Categorizes a job title into predefined categories based on keywords.\n",
        "  \"\"\"\n",
        "\n",
        "  for category, keywords in categories.items():\n",
        "    if any(keyword in title.lower() for keyword in keywords):\n",
        "      return category\n",
        "  return \"Full Stack Developer\"\n",
        "\n",
        "\n",
        "df[\"Category\"] = df[\"Title\"].apply(categorize_job_titles)"
      ],
      "metadata": {
        "id": "u7yFwPJRrFeP"
      },
      "execution_count": 13,
      "outputs": []
    },
    {
      "cell_type": "markdown",
      "source": [
        "Description"
      ],
      "metadata": {
        "id": "ql7dbGgkwO4o"
      }
    },
    {
      "cell_type": "code",
      "source": [
        "features = {\n",
        "  \"languages\": [\n",
        "      \"python\", \"javascript\", \"js\", \"java\", \"kotlin\", \"swift\", \"php\",\n",
        "      \"typescript\", \"ruby\", \"golang\", \"sql\", \"rust\", \"bash\", \"shell\",\n",
        "      \"assembly\", \"scala\", \"matlab\", \"perl\", \"dart\", \" r \", \" r,\", \" r/\",\n",
        "      \"c#\", \"c #\", \"c++\", \"c ++\", \" c \", \" c,\", \"c/\"\n",
        "  ],\n",
        "\n",
        "  \"databases\": [\n",
        "      \"postgresql\", \"mysql\", \"sqlite\", \"mongodb\",\n",
        "      \"microsoft sql server\", \"redis\", \"mariadb\", \"elasticsearch\",\n",
        "      \"oracle\", \"dynamodb\", \"bigquery\", \"microsoft access\"\n",
        "  ],\n",
        "\n",
        "  \"clouds\": [\n",
        "      \"aws\", \"azure\", \"google cloud\", \"firebase\", \"cloudflare\"\n",
        "  ],\n",
        "\n",
        "  \"technologies\": [\n",
        "      \"flask\", \"django\", \"fastapi\", \"spring boot\", \"spring framework\", \"plotly\",\n",
        "      \"hibernate\", \"ruby on rails\", \"symfony\", \"matplotlib\", \"seaborn\",\n",
        "      \"beautiful soup\", \"tensorflow\", \"scikit-learn\", \"pytorch\", \"keras\",\n",
        "      \"node.js\", \"nodejs\", \" react,\", \" react \", \"jquery\", \"angular\", \"next.js\",\n",
        "      \"vue.js\", \"svelte\", \"bootstrap\", \"nestjs\", \"express.js\", \"wordpress\",\n",
        "      \"Power BI\", \"Tableau\", \"selenium\",  \"numpy\", \"pandas\", \"polars\", \"opencv\",\n",
        "      \"flutter\", \"electron\", \"opengl\", \"swiftui\", \"rabbitmq\", \"laravel\",\n",
        "      \"cuda\", \".net\",\n",
        "  ],\n",
        "\n",
        "  \"tools\": [\n",
        "      \"docker\", \"kubernetes\", \"kafka\", \"hadoop\", \"spark\", \"jenkins\", \"git\"\n",
        "  ],\n",
        "\n",
        "  \"education\": [\n",
        "      \"degree\"\n",
        "  ]\n",
        "}"
      ],
      "metadata": {
        "id": "ZQ6TUYZObwYb"
      },
      "execution_count": 14,
      "outputs": []
    },
    {
      "cell_type": "code",
      "source": [
        "def find_items(description, feature):\n",
        "  \"\"\"\n",
        "  Detects items mentioned in feature the given job description.\n",
        "  \"\"\"\n",
        "\n",
        "  if feature == \"languages\":\n",
        "    found_items = [item.replace(\" \", \"\").replace(\"/\", \"\").replace(\",\", \"\") for\n",
        "                      item in features[feature] if item in description.lower()]\n",
        "\n",
        "    if \"js\" in found_items:\n",
        "      found_items = [item for item in found_items if item not in \"js\"]\n",
        "      if not \"JavaScript\" in found_items:\n",
        "        found_items.append(\"javascript\")\n",
        "\n",
        "    if \"bash\" in found_items or \"shell\" in found_items:\n",
        "      found_items = [item for item in found_items if\n",
        "                        item not in [\"bash\", \"shell\"]]\n",
        "      found_items.append(\"bash/shell\")\n",
        "\n",
        "    if \"c\" in found_items or \"c++\" in found_items:\n",
        "      found_items = [item for item in found_items if\n",
        "                        item not in [\"c\", \"c++\"]]\n",
        "      found_items.append(\"c/c++\")\n",
        "\n",
        "  else:\n",
        "    found_items = [item for item in features[feature] if\n",
        "                   item in description.lower()]\n",
        "\n",
        "  return list(set(found_items))\n",
        "\n",
        "\n",
        "for feature in features.keys():\n",
        "  df[feature.capitalize()] = df[\"Description\"].apply(\n",
        "      lambda x: find_items(x, feature))"
      ],
      "metadata": {
        "id": "CDDCTfqxTshu"
      },
      "execution_count": 15,
      "outputs": []
    }
  ]
}